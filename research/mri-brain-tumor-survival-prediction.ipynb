{
 "cells": [
  {
   "cell_type": "markdown",
   "metadata": {
    "papermill": {
     "duration": 0.031893,
     "end_time": "2021-04-19T14:14:39.088024",
     "exception": false,
     "start_time": "2021-04-19T14:14:39.056131",
     "status": "completed"
    },
    "tags": []
   },
   "source": [
    "# Setup env"
   ]
  },
  {
   "cell_type": "code",
   "execution_count": 1,
   "metadata": {
    "_cell_guid": "b1076dfc-b9ad-4769-8c92-a6c4dae69d19",
    "_kg_hide-output": true,
    "_uuid": "8f2839f25d086af736a60e9eeb907d3b93b6e0e5",
    "execution": {
     "iopub.execute_input": "2021-04-19T14:14:39.162917Z",
     "iopub.status.busy": "2021-04-19T14:14:39.161981Z",
     "iopub.status.idle": "2021-04-19T14:15:17.099208Z",
     "shell.execute_reply": "2021-04-19T14:15:17.100392Z"
    },
    "papermill": {
     "duration": 37.981149,
     "end_time": "2021-04-19T14:15:17.100896",
     "exception": false,
     "start_time": "2021-04-19T14:14:39.119747",
     "status": "completed"
    },
    "tags": []
   },
   "outputs": [
    {
     "name": "stdout",
     "output_type": "stream",
     "text": [
      "Collecting git+https://github.com/miykael/gif_your_nifti\r\n",
      "  Cloning https://github.com/miykael/gif_your_nifti to /tmp/pip-req-build-qehhxomt\r\n",
      "  Running command git clone -q https://github.com/miykael/gif_your_nifti /tmp/pip-req-build-qehhxomt\r\n",
      "Requirement already satisfied: numpy in /opt/conda/lib/python3.7/site-packages (from gif-your-nifti==0.2.0) (1.19.5)\r\n",
      "Requirement already satisfied: nibabel in /opt/conda/lib/python3.7/site-packages (from gif-your-nifti==0.2.0) (3.2.1)\r\n",
      "Requirement already satisfied: imageio in /opt/conda/lib/python3.7/site-packages (from gif-your-nifti==0.2.0) (2.9.0)\r\n",
      "Requirement already satisfied: matplotlib in /opt/conda/lib/python3.7/site-packages (from gif-your-nifti==0.2.0) (3.3.3)\r\n",
      "Requirement already satisfied: pillow in /opt/conda/lib/python3.7/site-packages (from imageio->gif-your-nifti==0.2.0) (7.2.0)\r\n",
      "Requirement already satisfied: cycler>=0.10 in /opt/conda/lib/python3.7/site-packages (from matplotlib->gif-your-nifti==0.2.0) (0.10.0)\r\n",
      "Requirement already satisfied: python-dateutil>=2.1 in /opt/conda/lib/python3.7/site-packages (from matplotlib->gif-your-nifti==0.2.0) (2.8.1)\r\n",
      "Requirement already satisfied: pyparsing!=2.0.4,!=2.1.2,!=2.1.6,>=2.0.3 in /opt/conda/lib/python3.7/site-packages (from matplotlib->gif-your-nifti==0.2.0) (2.4.7)\r\n",
      "Requirement already satisfied: kiwisolver>=1.0.1 in /opt/conda/lib/python3.7/site-packages (from matplotlib->gif-your-nifti==0.2.0) (1.3.1)\r\n",
      "Requirement already satisfied: six in /opt/conda/lib/python3.7/site-packages (from cycler>=0.10->matplotlib->gif-your-nifti==0.2.0) (1.15.0)\r\n",
      "Requirement already satisfied: packaging>=14.3 in /opt/conda/lib/python3.7/site-packages (from nibabel->gif-your-nifti==0.2.0) (20.8)\r\n",
      "Building wheels for collected packages: gif-your-nifti\r\n",
      "  Building wheel for gif-your-nifti (setup.py) ... \u001b[?25l-\b \b\\\b \bdone\r\n",
      "\u001b[?25h  Created wheel for gif-your-nifti: filename=gif_your_nifti-0.2.0-py3-none-any.whl size=6261 sha256=c6c546dde97e4a3604961b46b5d791a570e7f728cc8d48bdf5e84bef29ab2a50\r\n",
      "  Stored in directory: /tmp/pip-ephem-wheel-cache-_pzaz5r1/wheels/4a/8c/d1/b228c3b67231f7459e8f70d73f4dadaf65cd90692d41f43e88\r\n",
      "Successfully built gif-your-nifti\r\n",
      "Installing collected packages: gif-your-nifti\r\n",
      "Successfully installed gif-your-nifti-0.2.0\r\n"
     ]
    }
   ],
   "source": [
    "import os\n",
    "import cv2\n",
    "import glob\n",
    "import shutil\n",
    "import numpy as np\n",
    "import pandas as pd\n",
    "import seaborn as sns\n",
    "import matplotlib.pyplot as plt\n",
    "\n",
    "\n",
    "# neural imaging\n",
    "import nilearn as nl\n",
    "import nibabel as nib\n",
    "import nilearn.plotting as nlplt\n",
    "!pip install git+https://github.com/miykael/gif_your_nifti # nifti to gif \n",
    "import gif_your_nifti.core as gif2nif\n",
    "\n",
    "\n",
    "# ml libs\n",
    "import keras\n",
    "import keras.backend as K\n",
    "from keras.callbacks import CSVLogger\n",
    "from keras.utils.np_utils import to_categorical   \n",
    "from sklearn.metrics import log_loss\n",
    "from sklearn.preprocessing import MinMaxScaler\n",
    "from sklearn.metrics import classification_report\n",
    "from sklearn.model_selection import train_test_split\n",
    "import tensorflow as tf\n",
    "from tensorflow.keras.models import *\n",
    "from tensorflow.keras.layers import *\n",
    "from tensorflow.keras.optimizers import *\n",
    "from tensorflow.keras.utils import plot_model\n",
    "from tensorflow.keras.layers.experimental import preprocessing\n",
    "from tensorflow.keras.callbacks import ModelCheckpoint, ReduceLROnPlateau, EarlyStopping, TensorBoard\n",
    "\n",
    "\n",
    "# Make numpy printouts easier to read.\n",
    "np.set_printoptions(precision=3, suppress=True)"
   ]
  },
  {
   "cell_type": "markdown",
   "metadata": {
    "papermill": {
     "duration": 0.392895,
     "end_time": "2021-04-19T14:15:17.547331",
     "exception": false,
     "start_time": "2021-04-19T14:15:17.154436",
     "status": "completed"
    },
    "tags": []
   },
   "source": [
    "**Define constants**"
   ]
  },
  {
   "cell_type": "code",
   "execution_count": 2,
   "metadata": {
    "execution": {
     "iopub.execute_input": "2021-04-19T14:15:17.657319Z",
     "iopub.status.busy": "2021-04-19T14:15:17.656328Z",
     "iopub.status.idle": "2021-04-19T14:15:17.660623Z",
     "shell.execute_reply": "2021-04-19T14:15:17.661579Z"
    },
    "papermill": {
     "duration": 0.063738,
     "end_time": "2021-04-19T14:15:17.661862",
     "exception": false,
     "start_time": "2021-04-19T14:15:17.598124",
     "status": "completed"
    },
    "tags": []
   },
   "outputs": [],
   "source": [
    "# DEFINE seg-areas  \n",
    "SEGMENT_CLASSES = {\n",
    "    0 : 'NOT tumor',\n",
    "    1 : 'NECROTIC/CORE', \n",
    "    2 : 'EDEMA',\n",
    "    3 : 'ENHANCING' # original 4 -> converted into 3 later\n",
    "}\n",
    "\n",
    "# days start interval\n",
    "SURVIVAL_CATEGORIES= {\n",
    "    'SHORT' : 0 , # 0-300\n",
    "    'MEDIUM' : 300,  # 300-450\n",
    "    'LONG' : 450, # 450 and more\n",
    "}\n",
    "\n",
    "# there are 155 slices per volume\n",
    "# to start at 5 and use 145 slices means we will skip the first 5 and last 5 \n",
    "VOLUME_SLICES = 100 \n",
    "VOLUME_START_AT = 22 # first slice of volume that we will include\n",
    "IMG_SIZE=128\n",
    "TRAIN_DATASET_PATH='../input/brats20-dataset-training-validation/BraTS2020_TrainingData/MICCAI_BraTS2020_TrainingData/'"
   ]
  },
  {
   "cell_type": "markdown",
   "metadata": {
    "papermill": {
     "duration": 0.05078,
     "end_time": "2021-04-19T14:15:17.763037",
     "exception": false,
     "start_time": "2021-04-19T14:15:17.712257",
     "status": "completed"
    },
    "tags": []
   },
   "source": [
    "**Split Dataset into train/test/validation**<br>\n",
    "0.65/0.20/0.15<br>"
   ]
  },
  {
   "cell_type": "code",
   "execution_count": 3,
   "metadata": {
    "_kg_hide-input": true,
    "_kg_hide-output": true,
    "execution": {
     "iopub.execute_input": "2021-04-19T14:15:17.962514Z",
     "iopub.status.busy": "2021-04-19T14:15:17.961871Z",
     "iopub.status.idle": "2021-04-19T14:15:18.027127Z",
     "shell.execute_reply": "2021-04-19T14:15:18.026375Z"
    },
    "papermill": {
     "duration": 0.106361,
     "end_time": "2021-04-19T14:15:18.027289",
     "exception": false,
     "start_time": "2021-04-19T14:15:17.920928",
     "status": "completed"
    },
    "tags": []
   },
   "outputs": [],
   "source": [
    "# lists of directories with studies\n",
    "train_and_val_directories = [f.path for f in os.scandir(TRAIN_DATASET_PATH) if f.is_dir()]\n",
    "# file BraTS20_Training_355 has ill formatted name for for seg.nii file\n",
    "train_and_val_directories.remove(TRAIN_DATASET_PATH+'BraTS20_Training_355')\n",
    "\n",
    "\n",
    "def pathListIntoIds(dirList):\n",
    "    x = []\n",
    "    for i in range(0,len(dirList)):\n",
    "        x.append(dirList[i][dirList[i].rfind('/')+1:])\n",
    "    return x\n",
    "\n",
    "train_and_test_ids = pathListIntoIds(train_and_val_directories); "
   ]
  },
  {
   "cell_type": "markdown",
   "metadata": {
    "papermill": {
     "duration": 0.032488,
     "end_time": "2021-04-19T14:15:18.092939",
     "exception": false,
     "start_time": "2021-04-19T14:15:18.060451",
     "status": "completed"
    },
    "tags": []
   },
   "source": [
    "**Check if the background of images contains only zero values**<br>\n",
    "Visualize zero values in image (black values ==> background) , converted into another color so its easier to see "
   ]
  },
  {
   "cell_type": "code",
   "execution_count": 4,
   "metadata": {
    "_kg_hide-input": true,
    "execution": {
     "iopub.execute_input": "2021-04-19T14:15:18.165158Z",
     "iopub.status.busy": "2021-04-19T14:15:18.164429Z",
     "iopub.status.idle": "2021-04-19T14:15:18.761427Z",
     "shell.execute_reply": "2021-04-19T14:15:18.760637Z"
    },
    "papermill": {
     "duration": 0.635574,
     "end_time": "2021-04-19T14:15:18.761574",
     "exception": false,
     "start_time": "2021-04-19T14:15:18.126000",
     "status": "completed"
    },
    "tags": []
   },
   "outputs": [
    {
     "data": {
      "text/plain": [
       "<matplotlib.image.AxesImage at 0x7f1f66d46f90>"
      ]
     },
     "execution_count": 4,
     "metadata": {},
     "output_type": "execute_result"
    },
    {
     "data": {
      "image/png": "[encoded data removed]",
      "text/plain": [
       "<Figure size 720x360 with 2 Axes>"
      ]
     },
     "metadata": {
      "needs_background": "light"
     },
     "output_type": "display_data"
    }
   ],
   "source": [
    "my_loc_slice=73\n",
    "image_volume=nib.load(TRAIN_DATASET_PATH+'BraTS20_Training_001/BraTS20_Training_001_t1.nii').get_fdata()\n",
    "my_img=image_volume[:,:,my_loc_slice]\n",
    "my_converted_img = my_img.copy()\n",
    "my_converted_img[my_converted_img == 0] = 666\n",
    "\n",
    "\n",
    "f, axarr = plt.subplots(1,2, figsize = (10, 5))\n",
    "axarr[0].imshow(my_img)\n",
    "axarr[1].imshow(my_converted_img)"
   ]
  },
  {
   "cell_type": "markdown",
   "metadata": {
    "papermill": {
     "duration": 0.036347,
     "end_time": "2021-04-19T14:15:18.835372",
     "exception": false,
     "start_time": "2021-04-19T14:15:18.799025",
     "status": "completed"
    },
    "tags": []
   },
   "source": [
    "Count number of pixels for each segment for each slice in volume"
   ]
  },
  {
   "cell_type": "code",
   "execution_count": 5,
   "metadata": {
    "_kg_hide-input": true,
    "_kg_hide-output": true,
    "execution": {
     "iopub.execute_input": "2021-04-19T14:15:18.914419Z",
     "iopub.status.busy": "2021-04-19T14:15:18.913541Z",
     "iopub.status.idle": "2021-04-19T14:15:18.917681Z",
     "shell.execute_reply": "2021-04-19T14:15:18.918219Z"
    },
    "papermill": {
     "duration": 0.046728,
     "end_time": "2021-04-19T14:15:18.918372",
     "exception": false,
     "start_time": "2021-04-19T14:15:18.871644",
     "status": "completed"
    },
    "tags": []
   },
   "outputs": [],
   "source": [
    "def maskSizeForSlice(path,i_slice):\n",
    "    totals = dict([(1, 0), (2, 0), (3, 0)])\n",
    "    image_volume=nib.load(path).get_fdata()\n",
    "    # flatten 3D image into 1D array and convert mask 4 to 2\n",
    "    arr=image_volume[:,:,i_slice].flatten()\n",
    "    arr[arr == 4] = 3\n",
    "\n",
    "    unique, counts = np.unique(arr, return_counts=True)\n",
    "    unique = unique.astype(int)\n",
    "    values_dict=dict(zip(unique, counts))\n",
    "    for k in range(1,4):\n",
    "        totals[k] += values_dict.get(k,0)\n",
    "    return totals"
   ]
  },
  {
   "cell_type": "code",
   "execution_count": 6,
   "metadata": {
    "_kg_hide-input": true,
    "execution": {
     "iopub.execute_input": "2021-04-19T14:15:18.997906Z",
     "iopub.status.busy": "2021-04-19T14:15:18.997213Z",
     "iopub.status.idle": "2021-04-19T14:15:19.276794Z",
     "shell.execute_reply": "2021-04-19T14:15:19.276179Z"
    },
    "papermill": {
     "duration": 0.32242,
     "end_time": "2021-04-19T14:15:19.276968",
     "exception": false,
     "start_time": "2021-04-19T14:15:18.954548",
     "status": "completed"
    },
    "tags": []
   },
   "outputs": [
    {
     "name": "stdout",
     "output_type": "stream",
     "text": [
      "count class 1: 287\n",
      "{1: 287, 2: 3843, 3: 631}\n"
     ]
    },
    {
     "data": {
      "image/png": "[encoded data removed]",
      "text/plain": [
       "<Figure size 432x288 with 1 Axes>"
      ]
     },
     "metadata": {
      "needs_background": "light"
     },
     "output_type": "display_data"
    }
   ],
   "source": [
    "my_loc_slice=73\n",
    "my_loc_class=1\n",
    "seg_sum=maskSizeForSlice(TRAIN_DATASET_PATH+'BraTS20_Training_001/BraTS20_Training_001_seg.nii',my_loc_slice)\n",
    "\n",
    "\n",
    "image_volume=nib.load(TRAIN_DATASET_PATH+'BraTS20_Training_001/BraTS20_Training_001_seg.nii').get_fdata()\n",
    "image_loc=image_volume[:,:,my_loc_slice]\n",
    "image_loc[image_loc != my_loc_class] = 0\n",
    "\n",
    "# plot segment only for class 'my_loc_class'\n",
    "plt.imshow(image_loc)\n",
    "\n",
    "image_loc=image_loc.flatten()\n",
    "count = np.count_nonzero(image_loc == my_loc_class)\n",
    "print(f'count class {my_loc_class}: {count}')\n",
    "print(seg_sum)"
   ]
  },
  {
   "cell_type": "markdown",
   "metadata": {
    "papermill": {
     "duration": 0.03751,
     "end_time": "2021-04-19T14:15:19.351951",
     "exception": false,
     "start_time": "2021-04-19T14:15:19.314441",
     "status": "completed"
    },
    "tags": []
   },
   "source": [
    "# Survival prediction"
   ]
  },
  {
   "cell_type": "markdown",
   "metadata": {
    "papermill": {
     "duration": 0.037213,
     "end_time": "2021-04-19T14:15:19.428329",
     "exception": false,
     "start_time": "2021-04-19T14:15:19.391116",
     "status": "completed"
    },
    "tags": []
   },
   "source": [
    "**Lets see what is the age distrubution in our dataset and their survival days**<br>\n",
    "skip not GTR values.."
   ]
  },
  {
   "cell_type": "code",
   "execution_count": 7,
   "metadata": {
    "_kg_hide-input": true,
    "_kg_hide-output": true,
    "execution": {
     "iopub.execute_input": "2021-04-19T14:15:19.516735Z",
     "iopub.status.busy": "2021-04-19T14:15:19.516017Z",
     "iopub.status.idle": "2021-04-19T14:15:19.537723Z",
     "shell.execute_reply": "2021-04-19T14:15:19.536687Z"
    },
    "papermill": {
     "duration": 0.070517,
     "end_time": "2021-04-19T14:15:19.537942",
     "exception": false,
     "start_time": "2021-04-19T14:15:19.467425",
     "status": "completed"
    },
    "tags": []
   },
   "outputs": [
    {
     "name": "stdout",
     "output_type": "stream",
     "text": [
      "Column names are Brats20ID, Age, Survival_days, Extent_of_Resection\n",
      "['BraTS20_Training_001', '60.463', '289', 'GTR']\n",
      "['BraTS20_Training_002', '52.263', '616', 'GTR']\n",
      "['BraTS20_Training_003', '54.301', '464', 'GTR']\n",
      "['BraTS20_Training_004', '39.068', '788', 'GTR']\n",
      "['BraTS20_Training_005', '68.493', '465', 'GTR']\n",
      "['BraTS20_Training_006', '67.126', '269', 'GTR']\n",
      "['BraTS20_Training_007', '69.912', '503', 'GTR']\n",
      "['BraTS20_Training_009', '56.419', '1155', 'GTR']\n",
      "['BraTS20_Training_010', '48.367', '515', 'GTR']\n",
      "['BraTS20_Training_012', '65.899', '495', 'GTR']\n",
      "['BraTS20_Training_013', '59.693', '698', 'GTR']\n",
      "['BraTS20_Training_014', '51.734', '359', 'GTR']\n",
      "['BraTS20_Training_015', '62.614', '169', 'GTR']\n",
      "['BraTS20_Training_016', '55.759', '368', 'GTR']\n",
      "['BraTS20_Training_017', '58.258', '439', 'GTR']\n",
      "['BraTS20_Training_018', '61.605', '486', 'GTR']\n",
      "['BraTS20_Training_019', '68.049', '287', 'GTR']\n",
      "['BraTS20_Training_021', '56.921', '576', 'GTR']\n",
      "['BraTS20_Training_022', '44.162', '350', 'GTR']\n",
      "['BraTS20_Training_023', '67.833', '332', 'GTR']\n",
      "['BraTS20_Training_024', '46.666', '331', 'GTR']\n",
      "['BraTS20_Training_028', '76.367', '106', 'GTR']\n",
      "['BraTS20_Training_033', '67.860', '473', 'GTR']\n",
      "['BraTS20_Training_034', '46.452', '1283', 'GTR']\n",
      "['BraTS20_Training_036', '71.370', '89', 'GTR']\n",
      "['BraTS20_Training_037', '75.978', '172', 'GTR']\n",
      "['BraTS20_Training_039', '53.362', '84', 'GTR']\n",
      "['BraTS20_Training_042', '75.312', '726', 'GTR']\n",
      "['BraTS20_Training_048', '46.570', '660', 'GTR']\n",
      "['BraTS20_Training_049', '77.337', '522', 'GTR']\n",
      "['BraTS20_Training_053', '54.751', '597', 'GTR']\n",
      "['BraTS20_Training_054', '68.359', '239', 'GTR']\n",
      "['BraTS20_Training_056', '71.126', '208', 'GTR']\n",
      "['BraTS20_Training_057', '69.178', '355', 'GTR']\n",
      "['BraTS20_Training_058', '68.726', '152', 'GTR']\n",
      "['BraTS20_Training_059', '51.589', '385', 'GTR']\n",
      "['BraTS20_Training_060', '62.159', '453', 'GTR']\n",
      "['BraTS20_Training_061', '36.784', '1592', 'GTR']\n",
      "['BraTS20_Training_062', '68.504', '376', 'GTR']\n",
      "['BraTS20_Training_064', '70.252', '12', 'GTR']\n",
      "['BraTS20_Training_065', '63.359', '579', 'GTR']\n",
      "['BraTS20_Training_066', '45.244', '614', 'GTR']\n",
      "['BraTS20_Training_067', '72.293', '387', 'GTR']\n",
      "['BraTS20_Training_068', '55.532', '180', 'GTR']\n",
      "['BraTS20_Training_069', '52.764', '139', 'GTR']\n",
      "['BraTS20_Training_070', '46.551', '375', 'GTR']\n",
      "['BraTS20_Training_071', '27.811', '1767', 'GTR']\n",
      "['BraTS20_Training_072', '74.630', '168', 'GTR']\n",
      "['BraTS20_Training_074', '85.762', '345', 'GTR']\n",
      "['BraTS20_Training_076', '66.282', '114', 'GTR']\n",
      "['BraTS20_Training_077', '79.211', '191', 'GTR']\n",
      "['BraTS20_Training_078', '74.836', '50', 'GTR']\n",
      "['BraTS20_Training_079', '65.921', '387', 'GTR']\n",
      "['BraTS20_Training_080', '63.781', '58', 'GTR']\n",
      "['BraTS20_Training_082', '46.258', '448', 'GTR']\n",
      "['BraTS20_Training_083', '54.915', '401', 'GTR']\n",
      "['BraTS20_Training_084', '61.622', 'ALIVE (361 days later)', 'GTR']\n",
      "['BraTS20_Training_086', '55.595', '510', 'GTR']\n",
      "['BraTS20_Training_089', '50.808', '296', 'GTR']\n",
      "['BraTS20_Training_090', '54.140', '278', 'GTR']\n",
      "['BraTS20_Training_091', '70.860', '146', 'GTR']\n",
      "['BraTS20_Training_093', '60.699', '1527', 'GTR']\n",
      "['BraTS20_Training_095', '67.170', '353', 'GTR']\n",
      "['BraTS20_Training_096', '80.510', '56', 'GTR']\n",
      "['BraTS20_Training_097', '86.274', '21', 'GTR']\n",
      "['BraTS20_Training_098', '50.063', '1227', 'GTR']\n",
      "['BraTS20_Training_099', '52.879', '182', 'GTR']\n",
      "['BraTS20_Training_100', '83.649', '277', 'GTR']\n",
      "['BraTS20_Training_101', '65.115', '155', 'GTR']\n",
      "['BraTS20_Training_102', '65.937', '1148', 'GTR']\n",
      "['BraTS20_Training_103', '85.942', '78', 'GTR']\n",
      "['BraTS20_Training_104', '70.803', '580', 'GTR']\n",
      "['BraTS20_Training_106', '82.932', '77', 'GTR']\n",
      "['BraTS20_Training_107', '60.019', '427', 'GTR']\n",
      "['BraTS20_Training_108', '82.419', '409', 'GTR']\n",
      "['BraTS20_Training_110', '57.068', '412', 'GTR']\n",
      "['BraTS20_Training_111', '58.030', '334', 'GTR']\n",
      "['BraTS20_Training_112', '86.652', '74', 'GTR']\n",
      "['BraTS20_Training_113', '70.622', '684', 'GTR']\n",
      "['BraTS20_Training_114', '57.233', '613', 'GTR']\n",
      "['BraTS20_Training_115', '78.140', '142', 'GTR']\n",
      "['BraTS20_Training_116', '50.899', '538', 'GTR']\n",
      "['BraTS20_Training_117', '65.381', '416', 'GTR']\n",
      "['BraTS20_Training_118', '73.674', '240', 'GTR']\n",
      "['BraTS20_Training_119', '45.575', '524', 'GTR']\n",
      "['BraTS20_Training_120', '54.477', '319', 'GTR']\n",
      "['BraTS20_Training_121', '63.638', '730', 'GTR']\n",
      "['BraTS20_Training_122', '69.003', '336', 'GTR']\n",
      "['BraTS20_Training_123', '69.403', '342', 'GTR']\n",
      "['BraTS20_Training_124', '64.203', '503', 'GTR']\n",
      "['BraTS20_Training_125', '66.403', '688', 'GTR']\n",
      "['BraTS20_Training_126', '49.641', '1410', 'GTR']\n",
      "['BraTS20_Training_127', '64.808', '374', 'GTR']\n",
      "['BraTS20_Training_128', '81.825', '117', 'GTR']\n",
      "['BraTS20_Training_129', '67.677', '692', 'GTR']\n",
      "['BraTS20_Training_145', '68.020', '120', 'GTR']\n",
      "['BraTS20_Training_147', '29.120', '150', 'GTR']\n",
      "['BraTS20_Training_151', '56.000', '300', 'GTR']\n",
      "['BraTS20_Training_152', '31.000', '630', 'GTR']\n",
      "['BraTS20_Training_153', '67.000', '330', 'GTR']\n",
      "['BraTS20_Training_154', '51.000', '728', 'GTR']\n",
      "['BraTS20_Training_157', '60.000', '540', 'GTR']\n",
      "['BraTS20_Training_337', '57', '1076', 'GTR']\n",
      "['BraTS20_Training_339', '59', '250', 'GTR']\n",
      "['BraTS20_Training_341', '67', '615', 'GTR']\n",
      "['BraTS20_Training_342', '66', '105', 'GTR']\n",
      "['BraTS20_Training_345', '57', '1293', 'GTR']\n",
      "['BraTS20_Training_346', '73', '260', 'GTR']\n",
      "['BraTS20_Training_347', '64', '1096', 'GTR']\n",
      "['BraTS20_Training_351', '73', '351', 'GTR']\n",
      "['BraTS20_Training_356', '64', '184', 'GTR']\n",
      "['BraTS20_Training_357', '59', '197', 'GTR']\n",
      "['BraTS20_Training_358', '61', '300', 'GTR']\n",
      "['BraTS20_Training_359', '51', '456', 'GTR']\n",
      "['BraTS20_Training_360', '50', '540', 'GTR']\n",
      "['BraTS20_Training_363', '57', '62', 'GTR']\n",
      "['BraTS20_Training_366', '72', '633', 'GTR']\n",
      "['BraTS20_Training_368', '49', '442', 'GTR']\n",
      "['BraTS20_Training_369', '50', '145', 'GTR']\n",
      "Processed 119 lines.\n",
      "34 38 46\n",
      "1767\n"
     ]
    }
   ],
   "source": [
    "import csv\n",
    "\n",
    "csv_path = '../input/brats20-dataset-training-validation/BraTS2020_TrainingData/MICCAI_BraTS2020_TrainingData/survival_info.csv'\n",
    "\n",
    "age_dict = {}\n",
    "days_dict = {}\n",
    "\n",
    "\n",
    "with open(csv_path, mode='r') as csv_file:\n",
    "    csv_reader = csv.reader(csv_file,delimiter = ',')\n",
    "  #  row_count = sum(1 for row in csv_reader)\n",
    " #   print(f'total rows: {row_count} .')\n",
    "    at_line = 0\n",
    "    category_short = 0\n",
    "    category_medium = 0\n",
    "    category_long = 0\n",
    "    max_days = 0\n",
    "    for row in csv_reader:\n",
    "        if at_line == 0:\n",
    "            print(f'Column names are {\", \".join(row)}')\n",
    "            at_line += 1\n",
    "        else:\n",
    "            if (row[3] != \"GTR\"):\n",
    "                continue\n",
    "            print(row)\n",
    "            key = row[0]\n",
    "            age = row[1]\n",
    "            days = row[2]\n",
    "            if (not days.isnumeric()):\n",
    "                continue\n",
    "            age_dict[key] = float(age)\n",
    "            days_dict[key] = int(days)\n",
    "            max_days = max(max_days,int(days))\n",
    "            if int(days) < 250:\n",
    "                category_short += 1\n",
    "            elif (int(days) >= 250 and int(days) <= 450):\n",
    "                category_medium += 1\n",
    "            else:\n",
    "                category_long += 1\n",
    "            at_line+=1\n",
    "\n",
    "    print(f'Processed {at_line} lines.')\n",
    "    print(category_short,category_medium,category_long)\n",
    "    print(max_days)"
   ]
  },
  {
   "cell_type": "code",
   "execution_count": 8,
   "metadata": {
    "_kg_hide-input": true,
    "execution": {
     "iopub.execute_input": "2021-04-19T14:15:19.652976Z",
     "iopub.status.busy": "2021-04-19T14:15:19.651931Z",
     "iopub.status.idle": "2021-04-19T14:15:20.212249Z",
     "shell.execute_reply": "2021-04-19T14:15:20.211657Z"
    },
    "papermill": {
     "duration": 0.623538,
     "end_time": "2021-04-19T14:15:20.212389",
     "exception": false,
     "start_time": "2021-04-19T14:15:19.588851",
     "status": "completed"
    },
    "tags": []
   },
   "outputs": [
    {
     "data": {
      "image/png": "[encoded data removed]",
      "text/plain": [
       "<Figure size 1280x480 with 1 Axes>"
      ]
     },
     "metadata": {
      "needs_background": "light"
     },
     "output_type": "display_data"
    },
    {
     "data": {
      "image/png": "[encoded data removed]",
      "text/plain": [
       "<Figure size 1120x480 with 1 Axes>"
      ]
     },
     "metadata": {
      "needs_background": "light"
     },
     "output_type": "display_data"
    }
   ],
   "source": [
    "from collections import Counter\n",
    "from itertools import cycle\n",
    "#age_dict, days_dict \n",
    "\n",
    "# round values in dictionary\n",
    "age_dict_rounded = {key : round(age_dict[key], 0) for key in age_dict}\n",
    "# survival days are very distinct values => move the values in ranges per 20\n",
    "days_dict_rounded = {key : round(days_dict[key]/20)*20 for key in days_dict}\n",
    "\n",
    "# count same numbers => create statistics how many times is there person with same age\n",
    "age_dict_rounded_counted = Counter(age_dict_rounded.values())\n",
    "days_dict_rounded_counted = Counter(days_dict_rounded.values())\n",
    "\n",
    "cycol = cycle('bgrcmk')\n",
    "colors = list()\n",
    "for i in range(len(age_dict_rounded_counted)):\n",
    "    colors.append(next(cycol))\n",
    "    \n",
    "cycol = cycle('bgrcmk')    \n",
    "colorsDays = list()\n",
    "for i in range(len(days_dict_rounded_counted)):\n",
    "    colorsDays.append(next(cycol))\n",
    "\n",
    "plt.figure(figsize=(16, 6), dpi=80)\n",
    "plt.xlabel('Number of people with (rounded) age')\n",
    "plt.ylabel('Age (rounded)')\n",
    "plt.title(\"(Rounded) age distrubution in dataset\")\n",
    "plt.bar(list(age_dict_rounded_counted.keys()), age_dict_rounded_counted.values(), color=colors)\n",
    "plt.show()\n",
    "\n",
    "plt.figure(figsize=(14, 6), dpi=80)\n",
    "plt.xlabel('Days survived')\n",
    "plt.ylabel('Number of people (rounded to 20)')\n",
    "plt.title(\"Survival days distribution\")\n",
    "plt.bar(list(days_dict_rounded_counted.keys()), days_dict_rounded_counted.values(),width=15, color=colorsDays)\n",
    "plt.show()"
   ]
  },
  {
   "cell_type": "markdown",
   "metadata": {
    "papermill": {
     "duration": 0.041467,
     "end_time": "2021-04-19T14:15:20.295515",
     "exception": false,
     "start_time": "2021-04-19T14:15:20.254048",
     "status": "completed"
    },
    "tags": []
   },
   "source": [
    "# Computing segment sizes\n",
    "Find number of pixels for each class in volume, no need to compute as ration to image size, since all images are of same size 240x240"
   ]
  },
  {
   "cell_type": "code",
   "execution_count": 9,
   "metadata": {
    "execution": {
     "iopub.execute_input": "2021-04-19T14:15:20.385333Z",
     "iopub.status.busy": "2021-04-19T14:15:20.384378Z",
     "iopub.status.idle": "2021-04-19T14:15:20.388385Z",
     "shell.execute_reply": "2021-04-19T14:15:20.387820Z"
    },
    "papermill": {
     "duration": 0.052646,
     "end_time": "2021-04-19T14:15:20.388526",
     "exception": false,
     "start_time": "2021-04-19T14:15:20.335880",
     "status": "completed"
    },
    "tags": []
   },
   "outputs": [],
   "source": [
    "# get number of pixels for each segment as dictionary\n",
    "# original images contain segment values (0,1,2,4) => 4 is our 3 ... :)\n",
    "def getMaskSizesForVolume(image_volume):\n",
    "    totals = dict([(1, 0), (2, 0), (3, 0)])\n",
    "    for i in range(VOLUME_SLICES):\n",
    "        # flatten 2D image into 1D array and convert mask 4 to 2\n",
    "        arr=image_volume[:,:,i+VOLUME_START_AT].flatten()\n",
    "        arr[arr == 4] = 3\n",
    "        \n",
    "        unique, counts = np.unique(arr, return_counts=True)\n",
    "        unique = unique.astype(int)\n",
    "        values_dict=dict(zip(unique, counts))\n",
    "        for k in range(1,4):\n",
    "            totals[k] += values_dict.get(k,0)\n",
    "    return totals"
   ]
  },
  {
   "cell_type": "markdown",
   "metadata": {
    "papermill": {
     "duration": 0.042776,
     "end_time": "2021-04-19T14:15:20.473228",
     "exception": false,
     "start_time": "2021-04-19T14:15:20.430452",
     "status": "completed"
    },
    "tags": []
   },
   "source": [
    "**Compute brain volume size** => ignore background"
   ]
  },
  {
   "cell_type": "code",
   "execution_count": 10,
   "metadata": {
    "_kg_hide-input": true,
    "execution": {
     "iopub.execute_input": "2021-04-19T14:15:20.563698Z",
     "iopub.status.busy": "2021-04-19T14:15:20.562621Z",
     "iopub.status.idle": "2021-04-19T14:15:20.876684Z",
     "shell.execute_reply": "2021-04-19T14:15:20.877324Z"
    },
    "papermill": {
     "duration": 0.361962,
     "end_time": "2021-04-19T14:15:20.877525",
     "exception": false,
     "start_time": "2021-04-19T14:15:20.515563",
     "status": "completed"
    },
    "tags": []
   },
   "outputs": [
    {
     "name": "stdout",
     "output_type": "stream",
     "text": [
      "total count: 1264556\n"
     ]
    },
    {
     "data": {
      "image/png": "[encoded data removed]",
      "text/plain": [
       "<Figure size 576x288 with 2 Axes>"
      ]
     },
     "metadata": {
      "needs_background": "light"
     },
     "output_type": "display_data"
    }
   ],
   "source": [
    "# returns count of non zero elements in whole 3D volume\n",
    "def getBrainSizeForVolume(image_volume):\n",
    "    total = 0\n",
    "    for i in range(VOLUME_SLICES):\n",
    "        arr=image_volume[:,:,i+VOLUME_START_AT].flatten()\n",
    "        image_count=np.count_nonzero(arr)\n",
    "        total=total+image_count\n",
    "    return total\n",
    "\n",
    "example_volume=nib.load(TRAIN_DATASET_PATH+'BraTS20_Training_001/BraTS20_Training_001_t1.nii').get_fdata()\n",
    "\n",
    "f, axarr = plt.subplots(1,2, figsize = (8, 4))\n",
    "axarr[0].imshow(example_volume[:,:,VOLUME_START_AT])\n",
    "axarr[1].imshow(example_volume[:,:,VOLUME_START_AT+30])\n",
    "\n",
    "print(f'total count: {getBrainSizeForVolume(example_volume)}')"
   ]
  },
  {
   "cell_type": "code",
   "execution_count": 11,
   "metadata": {
    "execution": {
     "iopub.execute_input": "2021-04-19T14:15:20.972081Z",
     "iopub.status.busy": "2021-04-19T14:15:20.971344Z",
     "iopub.status.idle": "2021-04-19T14:16:29.864203Z",
     "shell.execute_reply": "2021-04-19T14:16:29.863557Z"
    },
    "papermill": {
     "duration": 68.944961,
     "end_time": "2021-04-19T14:16:29.864361",
     "exception": false,
     "start_time": "2021-04-19T14:15:20.919400",
     "status": "completed"
    },
    "tags": []
   },
   "outputs": [
    {
     "name": "stdout",
     "output_type": "stream",
     "text": [
      "X_test: (118, 4)\n"
     ]
    },
    {
     "data": {
      "text/html": [
       "<div>\n",
       "<style scoped>\n",
       "    .dataframe tbody tr th:only-of-type {\n",
       "        vertical-align: middle;\n",
       "    }\n",
       "\n",
       "    .dataframe tbody tr th {\n",
       "        vertical-align: top;\n",
       "    }\n",
       "\n",
       "    .dataframe thead th {\n",
       "        text-align: right;\n",
       "    }\n",
       "</style>\n",
       "<table border=\"1\" class=\"dataframe\">\n",
       "  <thead>\n",
       "    <tr style=\"text-align: right;\">\n",
       "      <th></th>\n",
       "      <th>age</th>\n",
       "      <th>NECROTIC/CORE</th>\n",
       "      <th>EDEMA</th>\n",
       "      <th>ENHANCING</th>\n",
       "      <th>short</th>\n",
       "      <th>medium</th>\n",
       "      <th>long</th>\n",
       "    </tr>\n",
       "  </thead>\n",
       "  <tbody>\n",
       "    <tr>\n",
       "      <th>0</th>\n",
       "      <td>54.915</td>\n",
       "      <td>0.002438</td>\n",
       "      <td>0.045368</td>\n",
       "      <td>0.005153</td>\n",
       "      <td>0.0</td>\n",
       "      <td>1.0</td>\n",
       "      <td>0.0</td>\n",
       "    </tr>\n",
       "    <tr>\n",
       "      <th>1</th>\n",
       "      <td>57.000</td>\n",
       "      <td>0.015202</td>\n",
       "      <td>0.039171</td>\n",
       "      <td>0.019636</td>\n",
       "      <td>0.0</td>\n",
       "      <td>0.0</td>\n",
       "      <td>1.0</td>\n",
       "    </tr>\n",
       "    <tr>\n",
       "      <th>2</th>\n",
       "      <td>60.000</td>\n",
       "      <td>0.004592</td>\n",
       "      <td>0.027417</td>\n",
       "      <td>0.030548</td>\n",
       "      <td>0.0</td>\n",
       "      <td>0.0</td>\n",
       "      <td>1.0</td>\n",
       "    </tr>\n",
       "    <tr>\n",
       "      <th>3</th>\n",
       "      <td>83.649</td>\n",
       "      <td>0.039530</td>\n",
       "      <td>0.048636</td>\n",
       "      <td>0.025146</td>\n",
       "      <td>0.0</td>\n",
       "      <td>1.0</td>\n",
       "      <td>0.0</td>\n",
       "    </tr>\n",
       "    <tr>\n",
       "      <th>4</th>\n",
       "      <td>60.019</td>\n",
       "      <td>0.000448</td>\n",
       "      <td>0.018200</td>\n",
       "      <td>0.007183</td>\n",
       "      <td>0.0</td>\n",
       "      <td>1.0</td>\n",
       "      <td>0.0</td>\n",
       "    </tr>\n",
       "  </tbody>\n",
       "</table>\n",
       "</div>"
      ],
      "text/plain": [
       "      age  NECROTIC/CORE     EDEMA  ENHANCING  short  medium  long\n",
       "0  54.915       0.002438  0.045368   0.005153    0.0     1.0   0.0\n",
       "1  57.000       0.015202  0.039171   0.019636    0.0     0.0   1.0\n",
       "2  60.000       0.004592  0.027417   0.030548    0.0     0.0   1.0\n",
       "3  83.649       0.039530  0.048636   0.025146    0.0     1.0   0.0\n",
       "4  60.019       0.000448  0.018200   0.007183    0.0     1.0   0.0"
      ]
     },
     "execution_count": 11,
     "metadata": {},
     "output_type": "execute_result"
    }
   ],
   "source": [
    "# create only age: category data\n",
    "\n",
    "# id: age, categories\n",
    "def getListAgeDays(id_list):\n",
    "    x_val = []\n",
    "    y_val = []\n",
    "    for i in id_list:\n",
    "        if (i not in age_dict):\n",
    "            continue\n",
    "        masks = getMaskSizesForVolume(nib.load(TRAIN_DATASET_PATH + f'BraTS20_Training_{i[-3:]}/BraTS20_Training_{i[-3:]}_seg.nii').get_fdata())\n",
    "        brain_vol = getBrainSizeForVolume(nib.load(TRAIN_DATASET_PATH + f'BraTS20_Training_{i[-3:]}/BraTS20_Training_{i[-3:]}_t1.nii').get_fdata())\n",
    "        masks[1] = masks[1]/brain_vol\n",
    "        masks[2] = masks[2]/brain_vol\n",
    "        masks[3] = masks[3]/brain_vol\n",
    "        merged=[age_dict[i],masks[1],masks[2],masks[3]] ## add segments\n",
    "        x_val.append(merged) \n",
    "        if (days_dict[i] < 250):\n",
    "            y_val.append([1,0,0])\n",
    "        elif (days_dict[i] >= 250 and days_dict[i] < 450):\n",
    "            y_val.append([0,1,0])\n",
    "        else:\n",
    "            y_val.append([0,0,1])\n",
    "            \n",
    "    return np.array(x_val), np.array(y_val)\n",
    "\n",
    "X_all, y_all = getListAgeDays(train_and_test_ids)\n",
    "\n",
    "print(f'X_test: {X_all.shape}')\n",
    "df = pd.DataFrame(np.concatenate((X_all, y_all), axis=1) , columns = [\"age\",f\"{SEGMENT_CLASSES[1]}\",f\"{SEGMENT_CLASSES[2]}\",f\"{SEGMENT_CLASSES[3]}\",\"short\",\"medium\",\"long\"])\n",
    "df.head()"
   ]
  },
  {
   "cell_type": "markdown",
   "metadata": {
    "papermill": {
     "duration": 0.043553,
     "end_time": "2021-04-19T14:16:29.951814",
     "exception": false,
     "start_time": "2021-04-19T14:16:29.908261",
     "status": "completed"
    },
    "tags": []
   },
   "source": [
    "**Normalize the data**\n",
    "performing min-max scaling into range [0, 1]"
   ]
  },
  {
   "cell_type": "code",
   "execution_count": 12,
   "metadata": {
    "_kg_hide-input": true,
    "execution": {
     "iopub.execute_input": "2021-04-19T14:16:30.056460Z",
     "iopub.status.busy": "2021-04-19T14:16:30.055219Z",
     "iopub.status.idle": "2021-04-19T14:16:30.060953Z",
     "shell.execute_reply": "2021-04-19T14:16:30.060356Z"
    },
    "papermill": {
     "duration": 0.0665,
     "end_time": "2021-04-19T14:16:30.061095",
     "exception": false,
     "start_time": "2021-04-19T14:16:29.994595",
     "status": "completed"
    },
    "tags": []
   },
   "outputs": [
    {
     "data": {
      "text/html": [
       "<div>\n",
       "<style scoped>\n",
       "    .dataframe tbody tr th:only-of-type {\n",
       "        vertical-align: middle;\n",
       "    }\n",
       "\n",
       "    .dataframe tbody tr th {\n",
       "        vertical-align: top;\n",
       "    }\n",
       "\n",
       "    .dataframe thead th {\n",
       "        text-align: right;\n",
       "    }\n",
       "</style>\n",
       "<table border=\"1\" class=\"dataframe\">\n",
       "  <thead>\n",
       "    <tr style=\"text-align: right;\">\n",
       "      <th></th>\n",
       "      <th>age normalised</th>\n",
       "      <th>NECROTIC/CORE</th>\n",
       "      <th>EDEMA</th>\n",
       "      <th>ENHANCING</th>\n",
       "    </tr>\n",
       "  </thead>\n",
       "  <tbody>\n",
       "    <tr>\n",
       "      <th>0</th>\n",
       "      <td>0.460631</td>\n",
       "      <td>0.060053</td>\n",
       "      <td>0.330630</td>\n",
       "      <td>0.105513</td>\n",
       "    </tr>\n",
       "    <tr>\n",
       "      <th>1</th>\n",
       "      <td>0.496066</td>\n",
       "      <td>0.374441</td>\n",
       "      <td>0.283556</td>\n",
       "      <td>0.406350</td>\n",
       "    </tr>\n",
       "    <tr>\n",
       "      <th>2</th>\n",
       "      <td>0.547051</td>\n",
       "      <td>0.113117</td>\n",
       "      <td>0.194263</td>\n",
       "      <td>0.633018</td>\n",
       "    </tr>\n",
       "    <tr>\n",
       "      <th>3</th>\n",
       "      <td>0.948964</td>\n",
       "      <td>0.973691</td>\n",
       "      <td>0.355460</td>\n",
       "      <td>0.520813</td>\n",
       "    </tr>\n",
       "    <tr>\n",
       "      <th>4</th>\n",
       "      <td>0.547373</td>\n",
       "      <td>0.011033</td>\n",
       "      <td>0.124241</td>\n",
       "      <td>0.147677</td>\n",
       "    </tr>\n",
       "    <tr>\n",
       "      <th>...</th>\n",
       "      <td>...</td>\n",
       "      <td>...</td>\n",
       "      <td>...</td>\n",
       "      <td>...</td>\n",
       "    </tr>\n",
       "    <tr>\n",
       "      <th>113</th>\n",
       "      <td>1.000000</td>\n",
       "      <td>0.337023</td>\n",
       "      <td>0.507990</td>\n",
       "      <td>0.673251</td>\n",
       "    </tr>\n",
       "    <tr>\n",
       "      <th>114</th>\n",
       "      <td>0.795687</td>\n",
       "      <td>0.207157</td>\n",
       "      <td>0.222702</td>\n",
       "      <td>0.605692</td>\n",
       "    </tr>\n",
       "    <tr>\n",
       "      <th>115</th>\n",
       "      <td>0.779440</td>\n",
       "      <td>0.037349</td>\n",
       "      <td>0.208887</td>\n",
       "      <td>0.115095</td>\n",
       "    </tr>\n",
       "    <tr>\n",
       "      <th>116</th>\n",
       "      <td>0.807277</td>\n",
       "      <td>0.383568</td>\n",
       "      <td>0.179196</td>\n",
       "      <td>0.338549</td>\n",
       "    </tr>\n",
       "    <tr>\n",
       "      <th>117</th>\n",
       "      <td>0.371000</td>\n",
       "      <td>0.069379</td>\n",
       "      <td>0.095903</td>\n",
       "      <td>0.263933</td>\n",
       "    </tr>\n",
       "  </tbody>\n",
       "</table>\n",
       "<p>118 rows × 4 columns</p>\n",
       "</div>"
      ],
      "text/plain": [
       "     age normalised  NECROTIC/CORE     EDEMA  ENHANCING\n",
       "0          0.460631       0.060053  0.330630   0.105513\n",
       "1          0.496066       0.374441  0.283556   0.406350\n",
       "2          0.547051       0.113117  0.194263   0.633018\n",
       "3          0.948964       0.973691  0.355460   0.520813\n",
       "4          0.547373       0.011033  0.124241   0.147677\n",
       "..              ...            ...       ...        ...\n",
       "113        1.000000       0.337023  0.507990   0.673251\n",
       "114        0.795687       0.207157  0.222702   0.605692\n",
       "115        0.779440       0.037349  0.208887   0.115095\n",
       "116        0.807277       0.383568  0.179196   0.338549\n",
       "117        0.371000       0.069379  0.095903   0.263933\n",
       "\n",
       "[118 rows x 4 columns]"
      ]
     },
     "metadata": {},
     "output_type": "display_data"
    }
   ],
   "source": [
    "scaler = MinMaxScaler()\n",
    "v = X_all\n",
    "v_scaled = scaler.fit_transform(v)\n",
    "X_all = v_scaled\n",
    "\n",
    "df = pd.DataFrame(X_all, columns = [\"age normalised\",f\"{SEGMENT_CLASSES[1]}\",f\"{SEGMENT_CLASSES[2]}\",f\"{SEGMENT_CLASSES[3]}\"])\n",
    "display(df)"
   ]
  },
  {
   "cell_type": "markdown",
   "metadata": {
    "papermill": {
     "duration": 0.043957,
     "end_time": "2021-04-19T14:16:30.150098",
     "exception": false,
     "start_time": "2021-04-19T14:16:30.106141",
     "status": "completed"
    },
    "tags": []
   },
   "source": [
    "**View data distributions**"
   ]
  },
  {
   "cell_type": "code",
   "execution_count": 13,
   "metadata": {
    "_kg_hide-input": true,
    "execution": {
     "iopub.execute_input": "2021-04-19T14:16:30.262544Z",
     "iopub.status.busy": "2021-04-19T14:16:30.261465Z",
     "iopub.status.idle": "2021-04-19T14:16:34.298687Z",
     "shell.execute_reply": "2021-04-19T14:16:34.296987Z"
    },
    "papermill": {
     "duration": 4.103965,
     "end_time": "2021-04-19T14:16:34.298955",
     "exception": false,
     "start_time": "2021-04-19T14:16:30.194990",
     "status": "completed"
    },
    "tags": []
   },
   "outputs": [
    {
     "data": {
      "text/plain": [
       "<seaborn.axisgrid.PairGrid at 0x7f1f66166410>"
      ]
     },
     "execution_count": 13,
     "metadata": {},
     "output_type": "execute_result"
    },
    {
     "data": {
      "image/png": "[encoded data removed]",
      "text/plain": [
       "<Figure size 720x720 with 20 Axes>"
      ]
     },
     "metadata": {},
     "output_type": "display_data"
    }
   ],
   "source": [
    "sns.set()\n",
    "\n",
    "df = pd.DataFrame(X_all, columns = [\"age\", SEGMENT_CLASSES[1],SEGMENT_CLASSES[2],SEGMENT_CLASSES[3]])\n",
    "sns.pairplot(df, diag_kind='kde')"
   ]
  },
  {
   "cell_type": "markdown",
   "metadata": {
    "papermill": {
     "duration": 0.26553,
     "end_time": "2021-04-19T14:16:34.884599",
     "exception": false,
     "start_time": "2021-04-19T14:16:34.619069",
     "status": "completed"
    },
    "tags": []
   },
   "source": [
    "**Train test split**"
   ]
  },
  {
   "cell_type": "code",
   "execution_count": 14,
   "metadata": {
    "execution": {
     "iopub.execute_input": "2021-04-19T14:16:35.317468Z",
     "iopub.status.busy": "2021-04-19T14:16:35.316495Z",
     "iopub.status.idle": "2021-04-19T14:16:35.322888Z",
     "shell.execute_reply": "2021-04-19T14:16:35.323617Z"
    },
    "papermill": {
     "duration": 0.236965,
     "end_time": "2021-04-19T14:16:35.323876",
     "exception": false,
     "start_time": "2021-04-19T14:16:35.086911",
     "status": "completed"
    },
    "tags": []
   },
   "outputs": [
    {
     "name": "stdout",
     "output_type": "stream",
     "text": [
      "x_train shape: (94, 4)\n",
      "x_test shape: (94, 4)\n",
      "y_train shape: (94, 3)\n",
      "y_test shape: (24, 3)\n"
     ]
    }
   ],
   "source": [
    "X_train, X_test, y_train, y_test = train_test_split(X_all,y_all,test_size = 0.2, random_state = 42, shuffle = True)\n",
    "\n",
    "\n",
    "print(\"x_train shape:\",X_train.shape)\n",
    "print(\"x_test shape:\", X_train.shape)\n",
    "print(\"y_train shape:\",y_train.shape)\n",
    "print(\"y_test shape:\", y_test.shape)"
   ]
  },
  {
   "cell_type": "markdown",
   "metadata": {
    "papermill": {
     "duration": 0.150893,
     "end_time": "2021-04-19T14:16:35.550444",
     "exception": false,
     "start_time": "2021-04-19T14:16:35.399551",
     "status": "completed"
    },
    "tags": []
   },
   "source": [
    "# Random forest "
   ]
  },
  {
   "cell_type": "code",
   "execution_count": 15,
   "metadata": {
    "execution": {
     "iopub.execute_input": "2021-04-19T14:16:35.654642Z",
     "iopub.status.busy": "2021-04-19T14:16:35.653877Z",
     "iopub.status.idle": "2021-04-19T14:16:35.737309Z",
     "shell.execute_reply": "2021-04-19T14:16:35.737833Z"
    },
    "papermill": {
     "duration": 0.139103,
     "end_time": "2021-04-19T14:16:35.738055",
     "exception": false,
     "start_time": "2021-04-19T14:16:35.598952",
     "status": "completed"
    },
    "tags": []
   },
   "outputs": [
    {
     "name": "stdout",
     "output_type": "stream",
     "text": [
      "Model accuracy score with 3 decision-trees : 0.5417\n",
      "Cross validation: Train Score: 0.24428763440860216\n",
      "Cross validation: Test Score: 0.5416666666666666\n"
     ]
    }
   ],
   "source": [
    "from sklearn.ensemble import RandomForestClassifier\n",
    "from sklearn.model_selection import GridSearchCV\n",
    "from sklearn.model_selection import cross_val_score\n",
    "from sklearn.metrics import accuracy_score\n",
    "\n",
    "rfc = RandomForestClassifier(n_estimators=3, random_state=0)\n",
    "\n",
    "# fit the model to the training set\n",
    "rfc.fit(X_train, y_train)\n",
    "y_pred = rfc.predict(X_test)\n",
    "\n",
    "print('Model accuracy score with 3 decision-trees : {0:0.4f}'. format(accuracy_score(y_test, y_pred)))\n",
    "\n",
    "\n",
    "\n",
    "accuracies = cross_val_score(rfc, X_train, y_train, cv=3)\n",
    "# rfc.fit(X_train,y_train)\n",
    "\n",
    "print(\"Cross validation: Train Score:\",np.mean(accuracies))\n",
    "print(\"Cross validation: Test Score:\",rfc.score(X_test,y_test))"
   ]
  },
  {
   "cell_type": "markdown",
   "metadata": {
    "papermill": {
     "duration": 0.050602,
     "end_time": "2021-04-19T14:16:35.837765",
     "exception": false,
     "start_time": "2021-04-19T14:16:35.787163",
     "status": "completed"
    },
    "tags": []
   },
   "source": [
    "**Visualize the most important features**<br>\n",
    "We can see that the most important feature is age"
   ]
  },
  {
   "cell_type": "code",
   "execution_count": 16,
   "metadata": {
    "execution": {
     "iopub.execute_input": "2021-04-19T14:16:35.946564Z",
     "iopub.status.busy": "2021-04-19T14:16:35.945537Z",
     "iopub.status.idle": "2021-04-19T14:16:35.951129Z",
     "shell.execute_reply": "2021-04-19T14:16:35.950597Z"
    },
    "papermill": {
     "duration": 0.064307,
     "end_time": "2021-04-19T14:16:35.951265",
     "exception": false,
     "start_time": "2021-04-19T14:16:35.886958",
     "status": "completed"
    },
    "tags": []
   },
   "outputs": [
    {
     "data": {
      "text/plain": [
       "age              0.323315\n",
       "NECROTIC/CORE    0.265839\n",
       "ENHANCING        0.209758\n",
       "EDEMA            0.201087\n",
       "dtype: float64"
      ]
     },
     "execution_count": 16,
     "metadata": {},
     "output_type": "execute_result"
    }
   ],
   "source": [
    "df = pd.DataFrame(X_train, columns = [\"age\",f\"{SEGMENT_CLASSES[1]}\",f\"{SEGMENT_CLASSES[2]}\",f\"{SEGMENT_CLASSES[3]}\"])\n",
    "\n",
    "feature_scores = pd.Series(rfc.feature_importances_, index=df.columns).sort_values(ascending=False)\n",
    "feature_scores"
   ]
  },
  {
   "cell_type": "code",
   "execution_count": 17,
   "metadata": {
    "execution": {
     "iopub.execute_input": "2021-04-19T14:16:36.088809Z",
     "iopub.status.busy": "2021-04-19T14:16:36.087356Z",
     "iopub.status.idle": "2021-04-19T14:16:36.283276Z",
     "shell.execute_reply": "2021-04-19T14:16:36.282207Z"
    },
    "papermill": {
     "duration": 0.281884,
     "end_time": "2021-04-19T14:16:36.283469",
     "exception": false,
     "start_time": "2021-04-19T14:16:36.001585",
     "status": "completed"
    },
    "tags": []
   },
   "outputs": [
    {
     "data": {
      "image/png": "[encoded data removed]",
      "text/plain": [
       "<Figure size 432x288 with 1 Axes>"
      ]
     },
     "metadata": {},
     "output_type": "display_data"
    }
   ],
   "source": [
    "sns.barplot(x=feature_scores, y=feature_scores.index)\n",
    "plt.xlabel('Feature Importance Score')\n",
    "plt.ylabel('Features')\n",
    "plt.title(\"Visualizing Important Features\")\n",
    "plt.show()"
   ]
  },
  {
   "cell_type": "markdown",
   "metadata": {
    "papermill": {
     "duration": 0.049965,
     "end_time": "2021-04-19T14:16:36.384311",
     "exception": false,
     "start_time": "2021-04-19T14:16:36.334346",
     "status": "completed"
    },
    "tags": []
   },
   "source": [
    "**Confusion matrix**"
   ]
  },
  {
   "cell_type": "code",
   "execution_count": 18,
   "metadata": {
    "execution": {
     "iopub.execute_input": "2021-04-19T14:16:36.528956Z",
     "iopub.status.busy": "2021-04-19T14:16:36.514786Z",
     "iopub.status.idle": "2021-04-19T14:16:36.743262Z",
     "shell.execute_reply": "2021-04-19T14:16:36.742653Z"
    },
    "papermill": {
     "duration": 0.308645,
     "end_time": "2021-04-19T14:16:36.743425",
     "exception": false,
     "start_time": "2021-04-19T14:16:36.434780",
     "status": "completed"
    },
    "tags": []
   },
   "outputs": [
    {
     "data": {
      "image/png": "[encoded data removed]",
      "text/plain": [
       "<Figure size 432x288 with 2 Axes>"
      ]
     },
     "metadata": {},
     "output_type": "display_data"
    }
   ],
   "source": [
    "from sklearn.metrics import confusion_matrix\n",
    "\n",
    "cm = confusion_matrix(y_test.argmax(axis=1), y_pred.argmax(axis=1))\n",
    "\n",
    "sns.set(font_scale=1.2) \n",
    "sns.heatmap(cm, annot=True, annot_kws={\"size\": 12}) \n",
    "\n",
    "plt.show()"
   ]
  },
  {
   "cell_type": "code",
   "execution_count": 19,
   "metadata": {
    "execution": {
     "iopub.execute_input": "2021-04-19T14:16:36.856801Z",
     "iopub.status.busy": "2021-04-19T14:16:36.853749Z",
     "iopub.status.idle": "2021-04-19T14:16:36.875983Z",
     "shell.execute_reply": "2021-04-19T14:16:36.875416Z"
    },
    "papermill": {
     "duration": 0.080745,
     "end_time": "2021-04-19T14:16:36.876124",
     "exception": false,
     "start_time": "2021-04-19T14:16:36.795379",
     "status": "completed"
    },
    "tags": []
   },
   "outputs": [
    {
     "name": "stdout",
     "output_type": "stream",
     "text": [
      "              precision    recall  f1-score   support\n",
      "\n",
      "           0       0.50      0.80      0.62         5\n",
      "           1       0.71      0.56      0.63         9\n",
      "           2       0.57      0.40      0.47        10\n",
      "\n",
      "   micro avg       0.59      0.54      0.57        24\n",
      "   macro avg       0.60      0.59      0.57        24\n",
      "weighted avg       0.61      0.54      0.56        24\n",
      " samples avg       0.54      0.54      0.54        24\n",
      "\n"
     ]
    },
    {
     "name": "stderr",
     "output_type": "stream",
     "text": [
      "/opt/conda/lib/python3.7/site-packages/sklearn/metrics/_classification.py:1245: UndefinedMetricWarning: Precision and F-score are ill-defined and being set to 0.0 in samples with no predicted labels. Use `zero_division` parameter to control this behavior.\n",
      "  _warn_prf(average, modifier, msg_start, len(result))\n"
     ]
    }
   ],
   "source": [
    "from sklearn.metrics import classification_report\n",
    "\n",
    "print(classification_report(y_test, y_pred))"
   ]
  },
  {
   "cell_type": "markdown",
   "metadata": {
    "papermill": {
     "duration": 0.05146,
     "end_time": "2021-04-19T14:16:36.980547",
     "exception": false,
     "start_time": "2021-04-19T14:16:36.929087",
     "status": "completed"
    },
    "tags": []
   },
   "source": [
    "**Gridsearch**<br>\n",
    "To find best score, I will try different value of:\n",
    "1. n_estimators -> in range (1,100) with step 1\n",
    "2. criterion parameters -> gini and entropy"
   ]
  },
  {
   "cell_type": "code",
   "execution_count": 20,
   "metadata": {
    "execution": {
     "iopub.execute_input": "2021-04-19T14:16:37.095474Z",
     "iopub.status.busy": "2021-04-19T14:16:37.093955Z",
     "iopub.status.idle": "2021-04-19T14:18:39.780014Z",
     "shell.execute_reply": "2021-04-19T14:18:39.780534Z"
    },
    "papermill": {
     "duration": 122.748935,
     "end_time": "2021-04-19T14:18:39.780736",
     "exception": false,
     "start_time": "2021-04-19T14:16:37.031801",
     "status": "completed"
    },
    "tags": []
   },
   "outputs": [
    {
     "name": "stdout",
     "output_type": "stream",
     "text": [
      "Hyperparameters: {'criterion': 'gini', 'n_estimators': 1}\n",
      "Train Score: 0.42339181286549704\n",
      "Test Score: 0.4583333333333333\n"
     ]
    }
   ],
   "source": [
    "grid = {\n",
    "    'n_estimators':np.arange(1,100,1),\n",
    "    'criterion':['gini','entropy']\n",
    "    }\n",
    "\n",
    "rfc_ = RandomForestClassifier(random_state = 42)\n",
    "rf_grid = GridSearchCV(rfc_, grid, cv=5)\n",
    "rf_grid.fit(X_train,y_train)\n",
    "\n",
    "print(\"Hyperparameters:\",rf_grid.best_params_)\n",
    "print(\"Train Score:\", rf_grid.best_score_)\n",
    "print(\"Test Score:\",rf_grid.score(X_test,y_test))"
   ]
  },
  {
   "cell_type": "markdown",
   "metadata": {
    "papermill": {
     "duration": 0.052814,
     "end_time": "2021-04-19T14:18:39.885933",
     "exception": false,
     "start_time": "2021-04-19T14:18:39.833119",
     "status": "completed"
    },
    "tags": []
   },
   "source": [
    "# SVM classifier"
   ]
  },
  {
   "cell_type": "code",
   "execution_count": 21,
   "metadata": {
    "execution": {
     "iopub.execute_input": "2021-04-19T14:18:40.000863Z",
     "iopub.status.busy": "2021-04-19T14:18:39.999830Z",
     "iopub.status.idle": "2021-04-19T14:18:40.024025Z",
     "shell.execute_reply": "2021-04-19T14:18:40.024590Z"
    },
    "papermill": {
     "duration": 0.086296,
     "end_time": "2021-04-19T14:18:40.024796",
     "exception": false,
     "start_time": "2021-04-19T14:18:39.938500",
     "status": "completed"
    },
    "tags": []
   },
   "outputs": [
    {
     "name": "stdout",
     "output_type": "stream",
     "text": [
      "Model accuracy score : 0.5000\n",
      "Cross validation: Train Score: 0.5216374269005847\n",
      "Cross validation: Test Score: 0.5\n"
     ]
    }
   ],
   "source": [
    "from sklearn.svm import SVC\n",
    "\n",
    "#convert one hot into multilabel\n",
    "y_train_multi=np.argmax(y_train, axis=1)\n",
    "y_test_multi =np.argmax(y_test, axis=1)\n",
    "\n",
    "svc = SVC(random_state = 42, C=10, degree=3, gamma=1, kernel='poly')\n",
    "svc.fit(X_train,y_train_multi)\n",
    "accuracies = cross_val_score(svc, X_train, y_train_multi)\n",
    "\n",
    "\n",
    "y_pred = svc.predict(X_test)\n",
    "\n",
    "print('Model accuracy score : {0:0.4f}'. format(accuracy_score(y_test_multi, y_pred)))\n",
    "\n",
    "\n",
    "print(\"Cross validation: Train Score:\",np.mean(accuracies))\n",
    "print(\"Cross validation: Test Score:\",svc.score(X_test,y_test_multi))"
   ]
  },
  {
   "cell_type": "code",
   "execution_count": 22,
   "metadata": {
    "_kg_hide-input": true,
    "execution": {
     "iopub.execute_input": "2021-04-19T14:18:40.169797Z",
     "iopub.status.busy": "2021-04-19T14:18:40.167968Z",
     "iopub.status.idle": "2021-04-19T14:18:40.381122Z",
     "shell.execute_reply": "2021-04-19T14:18:40.380433Z"
    },
    "papermill": {
     "duration": 0.303448,
     "end_time": "2021-04-19T14:18:40.381338",
     "exception": false,
     "start_time": "2021-04-19T14:18:40.077890",
     "status": "completed"
    },
    "tags": []
   },
   "outputs": [
    {
     "data": {
      "image/png": "[encoded data removed]",
      "text/plain": [
       "<Figure size 432x288 with 2 Axes>"
      ]
     },
     "metadata": {},
     "output_type": "display_data"
    }
   ],
   "source": [
    "# convert to one hot\n",
    "y_pred=y_pred.astype(int)\n",
    "n_values = np.max(y_pred) + 1\n",
    "y_pred_hot=np.eye(n_values)[y_pred]\n",
    "\n",
    "cm = confusion_matrix(y_test.argmax(axis=1), y_pred_hot.argmax(axis=1))\n",
    "\n",
    "sns.set(font_scale=1.2) \n",
    "sns.heatmap(cm, annot=True, annot_kws={\"size\": 12}) \n",
    "\n",
    "plt.show()"
   ]
  },
  {
   "cell_type": "code",
   "execution_count": 23,
   "metadata": {
    "_kg_hide-input": true,
    "execution": {
     "iopub.execute_input": "2021-04-19T14:18:40.501774Z",
     "iopub.status.busy": "2021-04-19T14:18:40.500705Z",
     "iopub.status.idle": "2021-04-19T14:18:40.511539Z",
     "shell.execute_reply": "2021-04-19T14:18:40.509894Z"
    },
    "papermill": {
     "duration": 0.074326,
     "end_time": "2021-04-19T14:18:40.511697",
     "exception": false,
     "start_time": "2021-04-19T14:18:40.437371",
     "status": "completed"
    },
    "tags": []
   },
   "outputs": [
    {
     "name": "stdout",
     "output_type": "stream",
     "text": [
      "              precision    recall  f1-score   support\n",
      "\n",
      "           0       1.00      0.40      0.57         5\n",
      "           1       0.50      0.11      0.18         9\n",
      "           2       0.45      0.90      0.60        10\n",
      "\n",
      "    accuracy                           0.50        24\n",
      "   macro avg       0.65      0.47      0.45        24\n",
      "weighted avg       0.58      0.50      0.44        24\n",
      "\n"
     ]
    }
   ],
   "source": [
    "print(classification_report(y_test_multi, y_pred))"
   ]
  },
  {
   "cell_type": "markdown",
   "metadata": {
    "papermill": {
     "duration": 0.056426,
     "end_time": "2021-04-19T14:18:40.624571",
     "exception": false,
     "start_time": "2021-04-19T14:18:40.568145",
     "status": "completed"
    },
    "tags": []
   },
   "source": [
    "**GridSearch**<br>\n",
    "To find best score, I will try different value of:\n",
    "1. C -> Regularization parameter\n",
    "2. kernel -> Specifies the kernel type to be used in the algorithm\n",
    "3. degree -> Degree of the polynomial kernel function\n",
    "4. gamma -> Kernel coefficient for ‘rbf’, ‘poly’ and ‘sigmoid’."
   ]
  },
  {
   "cell_type": "code",
   "execution_count": 24,
   "metadata": {
    "execution": {
     "iopub.execute_input": "2021-04-19T14:18:40.749749Z",
     "iopub.status.busy": "2021-04-19T14:18:40.747094Z",
     "iopub.status.idle": "2021-04-19T14:18:42.740511Z",
     "shell.execute_reply": "2021-04-19T14:18:42.739648Z"
    },
    "papermill": {
     "duration": 2.059829,
     "end_time": "2021-04-19T14:18:42.740793",
     "exception": false,
     "start_time": "2021-04-19T14:18:40.680964",
     "status": "completed"
    },
    "tags": []
   },
   "outputs": [
    {
     "name": "stdout",
     "output_type": "stream",
     "text": [
      "Best Parameters: {'C': 10, 'degree': 3, 'gamma': 1, 'kernel': 'poly'}\n",
      "Train Score: 0.5216374269005847\n",
      "Test Score: 0.5\n"
     ]
    }
   ],
   "source": [
    "grid = {\n",
    "    'C':[0.01,0.1,1,10,15,20],\n",
    "    'kernel' : [\"linear\",\"poly\",\"rbf\",\"sigmoid\"],\n",
    "    'degree' : [1,3,5,7],\n",
    "    'gamma' : [0.01,1]\n",
    "}\n",
    "\n",
    "svm  = SVC();\n",
    "svm_grid = GridSearchCV(svm, grid, cv = 5)\n",
    "svm_grid.fit(X_train,y_train_multi)\n",
    "print(\"Best Parameters:\",svm_grid.best_params_)\n",
    "print(\"Train Score:\",svm_grid.best_score_)\n",
    "print(\"Test Score:\",svm_grid.score(X_test,y_test_multi))"
   ]
  },
  {
   "cell_type": "markdown",
   "metadata": {
    "papermill": {
     "duration": 0.056031,
     "end_time": "2021-04-19T14:18:42.851503",
     "exception": false,
     "start_time": "2021-04-19T14:18:42.795472",
     "status": "completed"
    },
    "tags": []
   },
   "source": [
    "# KNN Classifier"
   ]
  },
  {
   "cell_type": "code",
   "execution_count": 25,
   "metadata": {
    "execution": {
     "iopub.execute_input": "2021-04-19T14:18:42.979628Z",
     "iopub.status.busy": "2021-04-19T14:18:42.972909Z",
     "iopub.status.idle": "2021-04-19T14:18:42.994993Z",
     "shell.execute_reply": "2021-04-19T14:18:42.994348Z"
    },
    "papermill": {
     "duration": 0.087379,
     "end_time": "2021-04-19T14:18:42.995123",
     "exception": false,
     "start_time": "2021-04-19T14:18:42.907744",
     "status": "completed"
    },
    "tags": []
   },
   "outputs": [
    {
     "name": "stdout",
     "output_type": "stream",
     "text": [
      "Model accuracy score : 0.5417\n",
      "Cross validation: Train Score: 0.49941520467836253\n",
      "Cross validation: Test Score: 0.5416666666666666\n"
     ]
    }
   ],
   "source": [
    "from sklearn.neighbors import KNeighborsClassifier\n",
    "\n",
    "knn  = KNeighborsClassifier(n_neighbors=38, p=2, weights='distance')\n",
    "knn.fit(X_train,y_train_multi)\n",
    "accuracies = cross_val_score(knn, X_train, y_train_multi)\n",
    "\n",
    "y_pred = knn.predict(X_test)\n",
    "\n",
    "print('Model accuracy score : {0:0.4f}'. format(accuracy_score(y_test_multi, y_pred)))\n",
    "\n",
    "\n",
    "print(\"Cross validation: Train Score:\",np.mean(accuracies))\n",
    "print(\"Cross validation: Test Score:\",knn.score(X_test,y_test_multi))"
   ]
  },
  {
   "cell_type": "code",
   "execution_count": 26,
   "metadata": {
    "execution": {
     "iopub.execute_input": "2021-04-19T14:18:43.163049Z",
     "iopub.status.busy": "2021-04-19T14:18:43.160879Z",
     "iopub.status.idle": "2021-04-19T14:18:43.387657Z",
     "shell.execute_reply": "2021-04-19T14:18:43.386032Z"
    },
    "papermill": {
     "duration": 0.33825,
     "end_time": "2021-04-19T14:18:43.387849",
     "exception": false,
     "start_time": "2021-04-19T14:18:43.049599",
     "status": "completed"
    },
    "tags": []
   },
   "outputs": [
    {
     "data": {
      "image/png": "[encoded data removed]",
      "text/plain": [
       "<Figure size 432x288 with 2 Axes>"
      ]
     },
     "metadata": {},
     "output_type": "display_data"
    }
   ],
   "source": [
    "# convert to one hot\n",
    "y_pred=y_pred.astype(int)\n",
    "n_values = np.max(y_pred) + 1\n",
    "y_pred_hot=np.eye(n_values)[y_pred]\n",
    "\n",
    "cm = confusion_matrix(y_test.argmax(axis=1), y_pred_hot.argmax(axis=1))\n",
    "\n",
    "sns.set(font_scale=1.2) \n",
    "sns.heatmap(cm, annot=True, annot_kws={\"size\": 12}) \n",
    "\n",
    "plt.show()"
   ]
  },
  {
   "cell_type": "code",
   "execution_count": 27,
   "metadata": {
    "execution": {
     "iopub.execute_input": "2021-04-19T14:18:43.515134Z",
     "iopub.status.busy": "2021-04-19T14:18:43.511372Z",
     "iopub.status.idle": "2021-04-19T14:18:43.520478Z",
     "shell.execute_reply": "2021-04-19T14:18:43.519816Z"
    },
    "papermill": {
     "duration": 0.075573,
     "end_time": "2021-04-19T14:18:43.520620",
     "exception": false,
     "start_time": "2021-04-19T14:18:43.445047",
     "status": "completed"
    },
    "tags": []
   },
   "outputs": [
    {
     "name": "stdout",
     "output_type": "stream",
     "text": [
      "              precision    recall  f1-score   support\n",
      "\n",
      "           0       0.50      0.60      0.55         5\n",
      "           1       0.67      0.22      0.33         9\n",
      "           2       0.53      0.80      0.64        10\n",
      "\n",
      "    accuracy                           0.54        24\n",
      "   macro avg       0.57      0.54      0.51        24\n",
      "weighted avg       0.58      0.54      0.51        24\n",
      "\n"
     ]
    }
   ],
   "source": [
    "print(classification_report(y_test_multi, y_pred))"
   ]
  },
  {
   "cell_type": "markdown",
   "metadata": {
    "papermill": {
     "duration": 0.056434,
     "end_time": "2021-04-19T14:18:43.633899",
     "exception": false,
     "start_time": "2021-04-19T14:18:43.577465",
     "status": "completed"
    },
    "tags": []
   },
   "source": [
    "**GridSearch**<br>\n",
    "To find best score, I will try different value of:\n",
    "1. n_neighbors -> Number of neighbors to use by default for kneighbors queries\n",
    "2. p -> Power parameter for the Minkowski metric. When p = 1, this is equivalent to using manhattan_distance (l1), and euclidean_distance\n",
    "3. weights -> weight function used in prediction\n"
   ]
  },
  {
   "cell_type": "code",
   "execution_count": 28,
   "metadata": {
    "execution": {
     "iopub.execute_input": "2021-04-19T14:18:43.767342Z",
     "iopub.status.busy": "2021-04-19T14:18:43.758363Z",
     "iopub.status.idle": "2021-04-19T14:18:53.708047Z",
     "shell.execute_reply": "2021-04-19T14:18:53.706696Z"
    },
    "papermill": {
     "duration": 10.017093,
     "end_time": "2021-04-19T14:18:53.708224",
     "exception": false,
     "start_time": "2021-04-19T14:18:43.691131",
     "status": "completed"
    },
    "tags": []
   },
   "outputs": [
    {
     "name": "stdout",
     "output_type": "stream",
     "text": [
      "Hyperparameters: {'n_neighbors': 38, 'p': 2, 'weights': 'distance'}\n",
      "Train Score: 0.49941520467836253\n",
      "Test Score: 0.5416666666666666\n"
     ]
    }
   ],
   "source": [
    "grid = {\n",
    "    'n_neighbors':np.arange(1,75),\n",
    "    'p':np.arange(1,5),\n",
    "    'weights':['uniform','distance']\n",
    "    }\n",
    "\n",
    "knn = KNeighborsClassifier()\n",
    "knn_grid = GridSearchCV(knn,grid,cv=5)\n",
    "knn_grid.fit(X_train,y_train_multi)\n",
    "\n",
    "print(\"Hyperparameters:\",knn_grid.best_params_)\n",
    "print(\"Train Score:\",knn_grid.best_score_)\n",
    "print(\"Test Score:\",knn_grid.score(X_test,y_test_multi))"
   ]
  },
  {
   "cell_type": "markdown",
   "metadata": {
    "papermill": {
     "duration": 0.056351,
     "end_time": "2021-04-19T14:18:53.821891",
     "exception": false,
     "start_time": "2021-04-19T14:18:53.765540",
     "status": "completed"
    },
    "tags": []
   },
   "source": [
    "# MLP Classifier"
   ]
  },
  {
   "cell_type": "code",
   "execution_count": 29,
   "metadata": {
    "_kg_hide-output": true,
    "execution": {
     "iopub.execute_input": "2021-04-19T14:18:53.942926Z",
     "iopub.status.busy": "2021-04-19T14:18:53.942066Z",
     "iopub.status.idle": "2021-04-19T14:18:54.894398Z",
     "shell.execute_reply": "2021-04-19T14:18:54.893848Z"
    },
    "papermill": {
     "duration": 1.01583,
     "end_time": "2021-04-19T14:18:54.894595",
     "exception": false,
     "start_time": "2021-04-19T14:18:53.878765",
     "status": "completed"
    },
    "tags": []
   },
   "outputs": [
    {
     "name": "stderr",
     "output_type": "stream",
     "text": [
      "/opt/conda/lib/python3.7/site-packages/sklearn/neural_network/_multilayer_perceptron.py:500: ConvergenceWarning: lbfgs failed to converge (status=1):\n",
      "STOP: TOTAL NO. of ITERATIONS REACHED LIMIT.\n",
      "\n",
      "Increase the number of iterations (max_iter) or scale the data as shown in:\n",
      "    https://scikit-learn.org/stable/modules/preprocessing.html\n",
      "  self.n_iter_ = _check_optimize_result(\"lbfgs\", opt_res, self.max_iter)\n",
      "/opt/conda/lib/python3.7/site-packages/sklearn/neural_network/_multilayer_perceptron.py:500: ConvergenceWarning: lbfgs failed to converge (status=1):\n",
      "STOP: TOTAL NO. of ITERATIONS REACHED LIMIT.\n",
      "\n",
      "Increase the number of iterations (max_iter) or scale the data as shown in:\n",
      "    https://scikit-learn.org/stable/modules/preprocessing.html\n",
      "  self.n_iter_ = _check_optimize_result(\"lbfgs\", opt_res, self.max_iter)\n",
      "/opt/conda/lib/python3.7/site-packages/sklearn/neural_network/_multilayer_perceptron.py:500: ConvergenceWarning: lbfgs failed to converge (status=1):\n",
      "STOP: TOTAL NO. of ITERATIONS REACHED LIMIT.\n",
      "\n",
      "Increase the number of iterations (max_iter) or scale the data as shown in:\n",
      "    https://scikit-learn.org/stable/modules/preprocessing.html\n",
      "  self.n_iter_ = _check_optimize_result(\"lbfgs\", opt_res, self.max_iter)\n",
      "/opt/conda/lib/python3.7/site-packages/sklearn/neural_network/_multilayer_perceptron.py:500: ConvergenceWarning: lbfgs failed to converge (status=1):\n",
      "STOP: TOTAL NO. of ITERATIONS REACHED LIMIT.\n",
      "\n",
      "Increase the number of iterations (max_iter) or scale the data as shown in:\n",
      "    https://scikit-learn.org/stable/modules/preprocessing.html\n",
      "  self.n_iter_ = _check_optimize_result(\"lbfgs\", opt_res, self.max_iter)\n",
      "/opt/conda/lib/python3.7/site-packages/sklearn/neural_network/_multilayer_perceptron.py:500: ConvergenceWarning: lbfgs failed to converge (status=1):\n",
      "STOP: TOTAL NO. of ITERATIONS REACHED LIMIT.\n",
      "\n",
      "Increase the number of iterations (max_iter) or scale the data as shown in:\n",
      "    https://scikit-learn.org/stable/modules/preprocessing.html\n",
      "  self.n_iter_ = _check_optimize_result(\"lbfgs\", opt_res, self.max_iter)\n",
      "/opt/conda/lib/python3.7/site-packages/sklearn/neural_network/_multilayer_perceptron.py:500: ConvergenceWarning: lbfgs failed to converge (status=1):\n",
      "STOP: TOTAL NO. of ITERATIONS REACHED LIMIT.\n",
      "\n",
      "Increase the number of iterations (max_iter) or scale the data as shown in:\n",
      "    https://scikit-learn.org/stable/modules/preprocessing.html\n",
      "  self.n_iter_ = _check_optimize_result(\"lbfgs\", opt_res, self.max_iter)\n"
     ]
    },
    {
     "name": "stdout",
     "output_type": "stream",
     "text": [
      "Model accuracy score : 0.5417\n",
      "Cross validation: Train Score: 0.4783625730994151\n"
     ]
    },
    {
     "ename": "NotFittedError",
     "evalue": "This KNeighborsClassifier instance is not fitted yet. Call 'fit' with appropriate arguments before using this estimator.",
     "output_type": "error",
     "traceback": [
      "\u001b[0;31m---------------------------------------------------------------------------\u001b[0m",
      "\u001b[0;31mNotFittedError\u001b[0m                            Traceback (most recent call last)",
      "\u001b[0;32m<ipython-input-29-845fa9458cde>\u001b[0m in \u001b[0;36m<module>\u001b[0;34m\u001b[0m\n\u001b[1;32m     20\u001b[0m \u001b[0;34m\u001b[0m\u001b[0m\n\u001b[1;32m     21\u001b[0m \u001b[0mprint\u001b[0m\u001b[0;34m(\u001b[0m\u001b[0;34m\"Cross validation: Train Score:\"\u001b[0m\u001b[0;34m,\u001b[0m\u001b[0mnp\u001b[0m\u001b[0;34m.\u001b[0m\u001b[0mmean\u001b[0m\u001b[0;34m(\u001b[0m\u001b[0maccuracies\u001b[0m\u001b[0;34m)\u001b[0m\u001b[0;34m)\u001b[0m\u001b[0;34m\u001b[0m\u001b[0;34m\u001b[0m\u001b[0m\n\u001b[0;32m---> 22\u001b[0;31m \u001b[0mprint\u001b[0m\u001b[0;34m(\u001b[0m\u001b[0;34m\"Cross validation: Test Score:\"\u001b[0m\u001b[0;34m,\u001b[0m\u001b[0mknn\u001b[0m\u001b[0;34m.\u001b[0m\u001b[0mscore\u001b[0m\u001b[0;34m(\u001b[0m\u001b[0mX_test\u001b[0m\u001b[0;34m,\u001b[0m\u001b[0my_test_multi\u001b[0m\u001b[0;34m)\u001b[0m\u001b[0;34m)\u001b[0m\u001b[0;34m\u001b[0m\u001b[0;34m\u001b[0m\u001b[0m\n\u001b[0m",
      "\u001b[0;32m/opt/conda/lib/python3.7/site-packages/sklearn/base.py\u001b[0m in \u001b[0;36mscore\u001b[0;34m(self, X, y, sample_weight)\u001b[0m\n\u001b[1;32m    498\u001b[0m         \"\"\"\n\u001b[1;32m    499\u001b[0m         \u001b[0;32mfrom\u001b[0m \u001b[0;34m.\u001b[0m\u001b[0mmetrics\u001b[0m \u001b[0;32mimport\u001b[0m \u001b[0maccuracy_score\u001b[0m\u001b[0;34m\u001b[0m\u001b[0;34m\u001b[0m\u001b[0m\n\u001b[0;32m--> 500\u001b[0;31m         \u001b[0;32mreturn\u001b[0m \u001b[0maccuracy_score\u001b[0m\u001b[0;34m(\u001b[0m\u001b[0my\u001b[0m\u001b[0;34m,\u001b[0m \u001b[0mself\u001b[0m\u001b[0;34m.\u001b[0m\u001b[0mpredict\u001b[0m\u001b[0;34m(\u001b[0m\u001b[0mX\u001b[0m\u001b[0;34m)\u001b[0m\u001b[0;34m,\u001b[0m \u001b[0msample_weight\u001b[0m\u001b[0;34m=\u001b[0m\u001b[0msample_weight\u001b[0m\u001b[0;34m)\u001b[0m\u001b[0;34m\u001b[0m\u001b[0;34m\u001b[0m\u001b[0m\n\u001b[0m\u001b[1;32m    501\u001b[0m \u001b[0;34m\u001b[0m\u001b[0m\n\u001b[1;32m    502\u001b[0m     \u001b[0;32mdef\u001b[0m \u001b[0m_more_tags\u001b[0m\u001b[0;34m(\u001b[0m\u001b[0mself\u001b[0m\u001b[0;34m)\u001b[0m\u001b[0;34m:\u001b[0m\u001b[0;34m\u001b[0m\u001b[0;34m\u001b[0m\u001b[0m\n",
      "\u001b[0;32m/opt/conda/lib/python3.7/site-packages/sklearn/neighbors/_classification.py\u001b[0m in \u001b[0;36mpredict\u001b[0;34m(self, X)\u001b[0m\n\u001b[1;32m    195\u001b[0m         \u001b[0mX\u001b[0m \u001b[0;34m=\u001b[0m \u001b[0mcheck_array\u001b[0m\u001b[0;34m(\u001b[0m\u001b[0mX\u001b[0m\u001b[0;34m,\u001b[0m \u001b[0maccept_sparse\u001b[0m\u001b[0;34m=\u001b[0m\u001b[0;34m'csr'\u001b[0m\u001b[0;34m)\u001b[0m\u001b[0;34m\u001b[0m\u001b[0;34m\u001b[0m\u001b[0m\n\u001b[1;32m    196\u001b[0m \u001b[0;34m\u001b[0m\u001b[0m\n\u001b[0;32m--> 197\u001b[0;31m         \u001b[0mneigh_dist\u001b[0m\u001b[0;34m,\u001b[0m \u001b[0mneigh_ind\u001b[0m \u001b[0;34m=\u001b[0m \u001b[0mself\u001b[0m\u001b[0;34m.\u001b[0m\u001b[0mkneighbors\u001b[0m\u001b[0;34m(\u001b[0m\u001b[0mX\u001b[0m\u001b[0;34m)\u001b[0m\u001b[0;34m\u001b[0m\u001b[0;34m\u001b[0m\u001b[0m\n\u001b[0m\u001b[1;32m    198\u001b[0m         \u001b[0mclasses_\u001b[0m \u001b[0;34m=\u001b[0m \u001b[0mself\u001b[0m\u001b[0;34m.\u001b[0m\u001b[0mclasses_\u001b[0m\u001b[0;34m\u001b[0m\u001b[0;34m\u001b[0m\u001b[0m\n\u001b[1;32m    199\u001b[0m         \u001b[0m_y\u001b[0m \u001b[0;34m=\u001b[0m \u001b[0mself\u001b[0m\u001b[0;34m.\u001b[0m\u001b[0m_y\u001b[0m\u001b[0;34m\u001b[0m\u001b[0;34m\u001b[0m\u001b[0m\n",
      "\u001b[0;32m/opt/conda/lib/python3.7/site-packages/sklearn/neighbors/_base.py\u001b[0m in \u001b[0;36mkneighbors\u001b[0;34m(self, X, n_neighbors, return_distance)\u001b[0m\n\u001b[1;32m    647\u001b[0m                [2]]...)\n\u001b[1;32m    648\u001b[0m         \"\"\"\n\u001b[0;32m--> 649\u001b[0;31m         \u001b[0mcheck_is_fitted\u001b[0m\u001b[0;34m(\u001b[0m\u001b[0mself\u001b[0m\u001b[0;34m)\u001b[0m\u001b[0;34m\u001b[0m\u001b[0;34m\u001b[0m\u001b[0m\n\u001b[0m\u001b[1;32m    650\u001b[0m \u001b[0;34m\u001b[0m\u001b[0m\n\u001b[1;32m    651\u001b[0m         \u001b[0;32mif\u001b[0m \u001b[0mn_neighbors\u001b[0m \u001b[0;32mis\u001b[0m \u001b[0;32mNone\u001b[0m\u001b[0;34m:\u001b[0m\u001b[0;34m\u001b[0m\u001b[0;34m\u001b[0m\u001b[0m\n",
      "\u001b[0;32m/opt/conda/lib/python3.7/site-packages/sklearn/utils/validation.py\u001b[0m in \u001b[0;36minner_f\u001b[0;34m(*args, **kwargs)\u001b[0m\n\u001b[1;32m     61\u001b[0m             \u001b[0mextra_args\u001b[0m \u001b[0;34m=\u001b[0m \u001b[0mlen\u001b[0m\u001b[0;34m(\u001b[0m\u001b[0margs\u001b[0m\u001b[0;34m)\u001b[0m \u001b[0;34m-\u001b[0m \u001b[0mlen\u001b[0m\u001b[0;34m(\u001b[0m\u001b[0mall_args\u001b[0m\u001b[0;34m)\u001b[0m\u001b[0;34m\u001b[0m\u001b[0;34m\u001b[0m\u001b[0m\n\u001b[1;32m     62\u001b[0m             \u001b[0;32mif\u001b[0m \u001b[0mextra_args\u001b[0m \u001b[0;34m<=\u001b[0m \u001b[0;36m0\u001b[0m\u001b[0;34m:\u001b[0m\u001b[0;34m\u001b[0m\u001b[0;34m\u001b[0m\u001b[0m\n\u001b[0;32m---> 63\u001b[0;31m                 \u001b[0;32mreturn\u001b[0m \u001b[0mf\u001b[0m\u001b[0;34m(\u001b[0m\u001b[0;34m*\u001b[0m\u001b[0margs\u001b[0m\u001b[0;34m,\u001b[0m \u001b[0;34m**\u001b[0m\u001b[0mkwargs\u001b[0m\u001b[0;34m)\u001b[0m\u001b[0;34m\u001b[0m\u001b[0;34m\u001b[0m\u001b[0m\n\u001b[0m\u001b[1;32m     64\u001b[0m \u001b[0;34m\u001b[0m\u001b[0m\n\u001b[1;32m     65\u001b[0m             \u001b[0;31m# extra_args > 0\u001b[0m\u001b[0;34m\u001b[0m\u001b[0;34m\u001b[0m\u001b[0;34m\u001b[0m\u001b[0m\n",
      "\u001b[0;32m/opt/conda/lib/python3.7/site-packages/sklearn/utils/validation.py\u001b[0m in \u001b[0;36mcheck_is_fitted\u001b[0;34m(estimator, attributes, msg, all_or_any)\u001b[0m\n\u001b[1;32m   1039\u001b[0m \u001b[0;34m\u001b[0m\u001b[0m\n\u001b[1;32m   1040\u001b[0m     \u001b[0;32mif\u001b[0m \u001b[0;32mnot\u001b[0m \u001b[0mattrs\u001b[0m\u001b[0;34m:\u001b[0m\u001b[0;34m\u001b[0m\u001b[0;34m\u001b[0m\u001b[0m\n\u001b[0;32m-> 1041\u001b[0;31m         \u001b[0;32mraise\u001b[0m \u001b[0mNotFittedError\u001b[0m\u001b[0;34m(\u001b[0m\u001b[0mmsg\u001b[0m \u001b[0;34m%\u001b[0m \u001b[0;34m{\u001b[0m\u001b[0;34m'name'\u001b[0m\u001b[0;34m:\u001b[0m \u001b[0mtype\u001b[0m\u001b[0;34m(\u001b[0m\u001b[0mestimator\u001b[0m\u001b[0;34m)\u001b[0m\u001b[0;34m.\u001b[0m\u001b[0m__name__\u001b[0m\u001b[0;34m}\u001b[0m\u001b[0;34m)\u001b[0m\u001b[0;34m\u001b[0m\u001b[0;34m\u001b[0m\u001b[0m\n\u001b[0m\u001b[1;32m   1042\u001b[0m \u001b[0;34m\u001b[0m\u001b[0m\n\u001b[1;32m   1043\u001b[0m \u001b[0;34m\u001b[0m\u001b[0m\n",
      "\u001b[0;31mNotFittedError\u001b[0m: This KNeighborsClassifier instance is not fitted yet. Call 'fit' with appropriate arguments before using this estimator."
     ]
    }
   ],
   "source": [
    "from sklearn.neural_network import MLPClassifier\n",
    "\n",
    "\n",
    "clf = MLPClassifier(\n",
    "    hidden_layer_sizes=11,\n",
    "    max_iter=150,\n",
    "    alpha=1e-05,\n",
    "    solver='lbfgs',\n",
    "    verbose=10,\n",
    "    random_state=6,\n",
    "    tol=0.000000001\n",
    ")\n",
    "\n",
    "clf.fit(X_train, y_train_multi)\n",
    "accuracies = cross_val_score(clf, X_train, y_train_multi)\n",
    "y_pred = clf.predict(X_test)\n",
    "\n",
    "print('Model accuracy score : {0:0.4f}'. format(accuracy_score(y_test_multi, y_pred)))\n",
    "\n",
    "\n",
    "print(\"Cross validation: Train Score:\",np.mean(accuracies))\n",
    "print(\"Cross validation: Test Score:\",knn.score(X_test,y_test_multi))"
   ]
  },
  {
   "cell_type": "code",
   "execution_count": 30,
   "metadata": {
    "_kg_hide-input": true,
    "execution": {
     "iopub.execute_input": "2021-04-19T14:18:55.046518Z",
     "iopub.status.busy": "2021-04-19T14:18:55.045390Z",
     "iopub.status.idle": "2021-04-19T14:18:55.282686Z",
     "shell.execute_reply": "2021-04-19T14:18:55.282166Z"
    },
    "papermill": {
     "duration": 0.329676,
     "end_time": "2021-04-19T14:18:55.282859",
     "exception": false,
     "start_time": "2021-04-19T14:18:54.953183",
     "status": "completed"
    },
    "tags": []
   },
   "outputs": [
    {
     "data": {
      "image/png": "[encoded data removed]",
      "text/plain": [
       "<Figure size 432x288 with 2 Axes>"
      ]
     },
     "metadata": {},
     "output_type": "display_data"
    }
   ],
   "source": [
    "# convert to one hot\n",
    "y_pred=y_pred.astype(int)\n",
    "n_values = np.max(y_pred) + 1\n",
    "y_pred_hot=np.eye(n_values)[y_pred]\n",
    "\n",
    "cm = confusion_matrix(y_test.argmax(axis=1), y_pred_hot.argmax(axis=1))\n",
    "\n",
    "sns.set(font_scale=1.2) \n",
    "sns.heatmap(cm, annot=True, annot_kws={\"size\": 12}) \n",
    "\n",
    "plt.show()"
   ]
  },
  {
   "cell_type": "markdown",
   "metadata": {
    "papermill": {
     "duration": 0.063437,
     "end_time": "2021-04-19T14:18:55.409509",
     "exception": false,
     "start_time": "2021-04-19T14:18:55.346072",
     "status": "completed"
    },
    "tags": []
   },
   "source": [
    "**GridSearch**<br>\n",
    "To find best score, I will try different value of:\n",
    "1. solver -> ‘lbfgs’ is an optimizer in the family of quasi-Newton methods. (we will use 'lbfgs', because we have very small dataset)\n",
    "2. max_iter -> Maximum number of iterations.\n",
    "3. alpha -> L2 penalty (regularization term) parameter.\n",
    "4. hidden_layer_sizes -> The ith element represents the number of neurons in the ith hidden layer\n",
    "5. random state -> Determines random number generation for weights and bias initialization, \n",
    "                  -> train-test split if early stopping is used, and batch sampling when solver=’sgd’ or ‘adam"
   ]
  },
  {
   "cell_type": "code",
   "execution_count": 31,
   "metadata": {
    "execution": {
     "iopub.execute_input": "2021-04-19T14:18:55.544659Z",
     "iopub.status.busy": "2021-04-19T14:18:55.543807Z",
     "iopub.status.idle": "2021-04-19T14:52:54.158109Z",
     "shell.execute_reply": "2021-04-19T14:52:54.158652Z"
    },
    "papermill": {
     "duration": 2038.684622,
     "end_time": "2021-04-19T14:52:54.158866",
     "exception": false,
     "start_time": "2021-04-19T14:18:55.474244",
     "status": "completed"
    },
    "tags": []
   },
   "outputs": [
    {
     "name": "stdout",
     "output_type": "stream",
     "text": [
      "Hyperparameters: {'alpha': 0.0001, 'hidden_layer_sizes': 11, 'max_iter': 500, 'random_state': 6, 'solver': 'lbfgs'}\n",
      "Train Score: 0.4988304093567251\n",
      "Test Score: 0.5416666666666666\n"
     ]
    }
   ],
   "source": [
    "grid = {\n",
    "    'solver': ['lbfgs'],\n",
    "    'max_iter': [25,50,100,150,200,300,500,1000 ],\n",
    "    'alpha': 10.0 ** -np.arange(1, 10),\n",
    "    'hidden_layer_sizes':np.arange(10, 15),\n",
    "    'random_state':[0,1,2,3,4,5,6,7,8,9]\n",
    "}\n",
    "clf_grid = GridSearchCV(MLPClassifier(), grid, n_jobs=-1)\n",
    "\n",
    "clf_grid.fit(X_train, y_train_multi)\n",
    "\n",
    "print(\"Hyperparameters:\",clf_grid.best_params_)\n",
    "print(\"Train Score:\",clf_grid.best_score_)\n",
    "print(\"Test Score:\",clf_grid.score(X_test, y_test_multi))"
   ]
  },
  {
   "cell_type": "markdown",
   "metadata": {
    "papermill": {
     "duration": 0.062174,
     "end_time": "2021-04-19T14:52:54.283992",
     "exception": false,
     "start_time": "2021-04-19T14:52:54.221818",
     "status": "completed"
    },
    "tags": []
   },
   "source": [
    "# Conclusion<br>\n",
    "\n",
    "TODO :)\n"
   ]
  }
 ],
 "metadata": {
  "kernelspec": {
   "display_name": "Python 3",
   "language": "python",
   "name": "python3"
  },
  "language_info": {
   "codemirror_mode": {
    "name": "ipython",
    "version": 3
   },
   "file_extension": ".py",
   "mimetype": "text/x-python",
   "name": "python",
   "nbconvert_exporter": "python",
   "pygments_lexer": "ipython3",
   "version": "3.7.9"
  },
  "papermill": {
   "default_parameters": {},
   "duration": 2302.505544,
   "end_time": "2021-04-19T14:52:55.863218",
   "environment_variables": {},
   "exception": null,
   "input_path": "__notebook__.ipynb",
   "output_path": "__notebook__.ipynb",
   "parameters": {},
   "start_time": "2021-04-19T14:14:33.357674",
   "version": "2.2.2"
  }
 },
 "nbformat": 4,
 "nbformat_minor": 4
}
