{
 "cells": [
  {
   "cell_type": "code",
   "execution_count": 2,
   "metadata": {},
   "outputs": [
    {
     "data": {
      "text/plain": [
       "'/home/towet/Desktop/Visions/tumors/Multimodal-Brain-Tumor-Segmentation/research'"
      ]
     },
     "execution_count": 2,
     "metadata": {},
     "output_type": "execute_result"
    }
   ],
   "source": [
    "import os\n",
    "%pwd"
   ]
  },
  {
   "cell_type": "code",
   "execution_count": 3,
   "metadata": {},
   "outputs": [],
   "source": [
    "os.chdir('../')"
   ]
  },
  {
   "cell_type": "code",
   "execution_count": 4,
   "metadata": {},
   "outputs": [
    {
     "data": {
      "text/plain": [
       "'/home/towet/Desktop/Visions/tumors/Multimodal-Brain-Tumor-Segmentation'"
      ]
     },
     "execution_count": 4,
     "metadata": {},
     "output_type": "execute_result"
    }
   ],
   "source": [
    "%pwd"
   ]
  },
  {
   "cell_type": "code",
   "execution_count": 5,
   "metadata": {},
   "outputs": [],
   "source": [
    "from dataclasses import dataclass\n",
    "from pathlib import Path\n",
    "\n",
    "\n",
    "@dataclass(frozen=True)\n",
    "class TrainingConfig:\n",
    "    root_dir: Path\n",
    "    trained_model_path: Path\n",
    "    train_img_dir : Path\n",
    "    train_mask_dir : Path\n",
    "    val_img_dir : Path\n",
    "    val_mask_dir : Path \n",
    "    IMG_HEIGHT : int\n",
    "    IMG_WIDTH : int\n",
    "    IMG_DEPTH : int\n",
    "    IMG_CHANNELS : int\n",
    "    num_classes : int\n",
    "    epochs : int\n",
    "    wt : float\n",
    "    LR : float\n",
    "    optim : str \n",
    "    batch_size : int\n"
   ]
  },
  {
   "cell_type": "code",
   "execution_count": 6,
   "metadata": {},
   "outputs": [],
   "source": [
    "from tumorsegmentation.constants import *\n",
    "from tumorsegmentation.utils.common import read_yaml, create_directories\n",
    "import os"
   ]
  },
  {
   "cell_type": "code",
   "execution_count": 7,
   "metadata": {},
   "outputs": [],
   "source": [
    "class ConfigurationManager:\n",
    "    def __init__(\n",
    "        self, \n",
    "        config_filepath = CONFIG_FILE_PATH,\n",
    "        params_filepath = PARAMS_FILE_PATH):\n",
    "        self.config = read_yaml(config_filepath)\n",
    "        self.params = read_yaml(params_filepath)\n",
    "        create_directories([self.config.artifacts_root])\n",
    "\n",
    "    def get_training_config(self) -> TrainingConfig:\n",
    "        training = self.config.training\n",
    "        processed_data = self.config.data_preprocessing\n",
    "        params = self.params\n",
    "        create_directories([\n",
    "            Path(training.root_dir)\n",
    "        ])\n",
    "        train_img_dir = os.path.join(\"artifacts\", \"preprocessed_data\", \"train_val_dataset\", \"train\", \"images/\")\n",
    "        train_mask_dir = os.path.join(\"artifacts\", \"preprocessed_data\", \"train_val_dataset\", \"train\", \"masks/\")\n",
    "        val_img_dir = os.path.join(\"artifacts\", \"preprocessed_data\", \"train_val_dataset\", \"val\", \"images/\")\n",
    "        val_mask_dir = os.path.join(\"artifacts\", \"preprocessed_data\", \"train_val_dataset\", \"val\", \"masks/\")\n",
    "\n",
    "        training_config = TrainingConfig(\n",
    "            root_dir=Path(training.root_dir),\n",
    "            trained_model_path=Path(training.trained_model_path),\n",
    "            \n",
    "            \n",
    "            train_img_dir = str(train_img_dir),\n",
    "            train_mask_dir = str(train_mask_dir),\n",
    "            val_img_dir = str(val_img_dir), \n",
    "            val_mask_dir = str(val_mask_dir), \n",
    "\n",
    "            epochs=params.epochs,\n",
    "            num_classes=params.num_classes,\n",
    "            IMG_CHANNELS=params.IMG_CHANNELS,\n",
    "            IMG_DEPTH=params.IMG_DEPTH,\n",
    "            IMG_HEIGHT=params.IMG_HEIGHT,\n",
    "            IMG_WIDTH=params.IMG_WIDTH,\n",
    "            \n",
    "            wt= params.wt,\n",
    "            LR = params.LR,\n",
    "            optim = params.optim,\n",
    "            batch_size = params.batch_size,\n",
    "            \n",
    "        )\n",
    "\n",
    "        return training_config"
   ]
  },
  {
   "cell_type": "code",
   "execution_count": 8,
   "metadata": {},
   "outputs": [
    {
     "name": "stderr",
     "output_type": "stream",
     "text": [
      "2023-11-25 12:52:40.172582: W tensorflow/stream_executor/platform/default/dso_loader.cc:64] Could not load dynamic library 'libcudart.so.11.0'; dlerror: libcudart.so.11.0: cannot open shared object file: No such file or directory\n",
      "2023-11-25 12:52:40.172619: I tensorflow/stream_executor/cuda/cudart_stub.cc:29] Ignore above cudart dlerror if you do not have a GPU set up on your machine.\n"
     ]
    },
    {
     "name": "stdout",
     "output_type": "stream",
     "text": [
      "Segmentation Models: using `tf.keras` framework.\n"
     ]
    }
   ],
   "source": [
    "import tensorflow as tf\n",
    "from tensorflow.keras import layers, models\n",
    "from tumorsegmentation.utils.common import imageLoader\n",
    "import segmentation_models_3D as sm \n",
    "import numpy as np\n",
    "from tumorsegmentation.models.unet_3D import unet_3D_model"
   ]
  },
  {
   "cell_type": "code",
   "execution_count": 9,
   "metadata": {},
   "outputs": [],
   "source": [
    "class Training:\n",
    "    def __init__(self, config: TrainingConfig):\n",
    "        self.config = config\n",
    "\n",
    "   \n",
    "    \n",
    "    def train_valid_generator(self):\n",
    "\n",
    "        \n",
    "        train_img_dir = self.config.train_img_dir\n",
    "        train_mask_dir = self.config.train_mask_dir\n",
    "        val_img_dir = self.config.val_img_dir\n",
    "        val_mask_dir = self.config.val_mask_dir\n",
    "        \n",
    "\n",
    "\n",
    "        train_img_list = os.listdir(train_img_dir)\n",
    "        train_mask_list = os.listdir(train_mask_dir)\n",
    "        val_img_list = os.listdir(val_img_dir)\n",
    "        val_mask_list = os.listdir(val_mask_dir)\n",
    "        batch_size=2\n",
    "\n",
    "        train_img_datagen = imageLoader(train_img_dir, train_img_list, train_mask_dir, train_mask_list, batch_size)\n",
    "        val_img_datagen = imageLoader(val_img_dir, val_img_list, val_mask_dir, val_mask_list, batch_size)\n",
    "\n",
    "        return train_img_datagen, val_img_datagen, train_img_list, val_img_list\n",
    "    \n",
    "    def train(self):\n",
    "        self.train_img_datagen, self.val_img_datagen, self.train_img_list, self.val_img_list = self.train_valid_generator()\n",
    "        self.steps_per_epoch = len(self.train_img_list) // self.config.batch_size\n",
    "        self.val_steps_per_epoch = len(self.val_img_list) // self.config.batch_size\n",
    "\n",
    "        wt0, wt1, wt2, wt3 = self.config.wt,self.config.wt,self.config.wt,self.config.wt\n",
    "        dice_loss = sm.losses.DiceLoss(class_weights=np.array([wt0, wt1, wt2, wt3]))\n",
    "        focal_loss = sm.losses.CategoricalFocalLoss()\n",
    "        total_loss = dice_loss + (1 * focal_loss)\n",
    "\n",
    "        metrics = ['accuracy', sm.metrics.IOUScore(threshold=0.5)]\n",
    "        \n",
    "   \n",
    "        self.optim = tf.keras.optimizers.Adam(self.config.LR)\n",
    "        self.model = unet_3D_model(self.config.IMG_HEIGHT,self.config.IMG_WIDTH,\n",
    "                                        self.config.IMG_DEPTH,self.config.IMG_CHANNELS,\n",
    "                                        self.config.num_classes)\n",
    "                        \n",
    "\n",
    "        self.model.compile(optimizer=self.optim, loss=total_loss, metrics=metrics)\n",
    "        self.model.fit(self.train_img_datagen, \n",
    "                    steps_per_epoch=self.steps_per_epoch,\n",
    "                        epochs=1,\n",
    "                        verbose=1, \n",
    "                        validation_data=self.val_img_datagen, \n",
    "                    validation_steps = self.val_steps_per_epoch)\n",
    "        self.save_model(\n",
    "                path=self.config.trained_model_path,\n",
    "                model=self.model\n",
    "            )\n",
    "\n"
   ]
  },
  {
   "cell_type": "code",
   "execution_count": 10,
   "metadata": {},
   "outputs": [
    {
     "name": "stdout",
     "output_type": "stream",
     "text": [
      "[2023-11-25 12:54:13,453: INFO: common: yaml file: config/config.yaml loaded successfully]\n",
      "[2023-11-25 12:54:13,459: INFO: common: yaml file: params.yaml loaded successfully]\n",
      "[2023-11-25 12:54:13,460: INFO: common: created directory at: artifacts]\n",
      "[2023-11-25 12:54:13,463: INFO: common: created directory at: artifacts/training]\n"
     ]
    },
    {
     "name": "stderr",
     "output_type": "stream",
     "text": [
      "2023-11-25 12:54:14.000228: W tensorflow/stream_executor/platform/default/dso_loader.cc:64] Could not load dynamic library 'libcuda.so.1'; dlerror: libcuda.so.1: cannot open shared object file: No such file or directory\n",
      "2023-11-25 12:54:14.000369: W tensorflow/stream_executor/cuda/cuda_driver.cc:269] failed call to cuInit: UNKNOWN ERROR (303)\n",
      "2023-11-25 12:54:14.000455: I tensorflow/stream_executor/cuda/cuda_diagnostics.cc:156] kernel driver does not appear to be running on this host (towet-HP-EliteBook-8460p): /proc/driver/nvidia/version does not exist\n"
     ]
    },
    {
     "name": "stdout",
     "output_type": "stream",
     "text": [
      "Model: \"model\"\n",
      "__________________________________________________________________________________________________\n",
      " Layer (type)                   Output Shape         Param #     Connected to                     \n",
      "==================================================================================================\n",
      " input_1 (InputLayer)           [(None, 128, 128, 1  0           []                               \n",
      "                                28, 3)]                                                           \n",
      "                                                                                                  \n",
      " conv3d (Conv3D)                (None, 128, 128, 12  1312        ['input_1[0][0]']                \n",
      "                                8, 16)                                                            \n",
      "                                                                                                  \n",
      " dropout (Dropout)              (None, 128, 128, 12  0           ['conv3d[0][0]']                 \n",
      "                                8, 16)                                                            \n",
      "                                                                                                  \n",
      " conv3d_1 (Conv3D)              (None, 128, 128, 12  6928        ['dropout[0][0]']                \n",
      "                                8, 16)                                                            \n",
      "                                                                                                  \n",
      " max_pooling3d (MaxPooling3D)   (None, 64, 64, 64,   0           ['conv3d_1[0][0]']               \n",
      "                                16)                                                               \n",
      "                                                                                                  \n",
      " conv3d_2 (Conv3D)              (None, 64, 64, 64,   13856       ['max_pooling3d[0][0]']          \n",
      "                                32)                                                               \n",
      "                                                                                                  \n",
      " dropout_1 (Dropout)            (None, 64, 64, 64,   0           ['conv3d_2[0][0]']               \n",
      "                                32)                                                               \n",
      "                                                                                                  \n",
      " conv3d_3 (Conv3D)              (None, 64, 64, 64,   27680       ['dropout_1[0][0]']              \n",
      "                                32)                                                               \n",
      "                                                                                                  \n",
      " max_pooling3d_1 (MaxPooling3D)  (None, 32, 32, 32,   0          ['conv3d_3[0][0]']               \n",
      "                                32)                                                               \n",
      "                                                                                                  \n",
      " conv3d_4 (Conv3D)              (None, 32, 32, 32,   55360       ['max_pooling3d_1[0][0]']        \n",
      "                                64)                                                               \n",
      "                                                                                                  \n",
      " dropout_2 (Dropout)            (None, 32, 32, 32,   0           ['conv3d_4[0][0]']               \n",
      "                                64)                                                               \n",
      "                                                                                                  \n",
      " conv3d_5 (Conv3D)              (None, 32, 32, 32,   110656      ['dropout_2[0][0]']              \n",
      "                                64)                                                               \n",
      "                                                                                                  \n",
      " max_pooling3d_2 (MaxPooling3D)  (None, 16, 16, 16,   0          ['conv3d_5[0][0]']               \n",
      "                                64)                                                               \n",
      "                                                                                                  \n",
      " conv3d_6 (Conv3D)              (None, 16, 16, 16,   221312      ['max_pooling3d_2[0][0]']        \n",
      "                                128)                                                              \n",
      "                                                                                                  \n",
      " dropout_3 (Dropout)            (None, 16, 16, 16,   0           ['conv3d_6[0][0]']               \n",
      "                                128)                                                              \n",
      "                                                                                                  \n",
      " conv3d_7 (Conv3D)              (None, 16, 16, 16,   442496      ['dropout_3[0][0]']              \n",
      "                                128)                                                              \n",
      "                                                                                                  \n",
      " max_pooling3d_3 (MaxPooling3D)  (None, 8, 8, 8, 128  0          ['conv3d_7[0][0]']               \n",
      "                                )                                                                 \n",
      "                                                                                                  \n",
      " conv3d_8 (Conv3D)              (None, 8, 8, 8, 256  884992      ['max_pooling3d_3[0][0]']        \n",
      "                                )                                                                 \n",
      "                                                                                                  \n",
      " dropout_4 (Dropout)            (None, 8, 8, 8, 256  0           ['conv3d_8[0][0]']               \n",
      "                                )                                                                 \n",
      "                                                                                                  \n",
      " conv3d_9 (Conv3D)              (None, 8, 8, 8, 256  1769728     ['dropout_4[0][0]']              \n",
      "                                )                                                                 \n",
      "                                                                                                  \n",
      " conv3d_transpose (Conv3DTransp  (None, 16, 16, 16,   262272     ['conv3d_9[0][0]']               \n",
      " ose)                           128)                                                              \n",
      "                                                                                                  \n",
      " concatenate (Concatenate)      (None, 16, 16, 16,   0           ['conv3d_transpose[0][0]',       \n",
      "                                256)                              'conv3d_7[0][0]']               \n",
      "                                                                                                  \n",
      " conv3d_10 (Conv3D)             (None, 16, 16, 16,   884864      ['concatenate[0][0]']            \n",
      "                                128)                                                              \n",
      "                                                                                                  \n",
      " dropout_5 (Dropout)            (None, 16, 16, 16,   0           ['conv3d_10[0][0]']              \n",
      "                                128)                                                              \n",
      "                                                                                                  \n",
      " conv3d_11 (Conv3D)             (None, 16, 16, 16,   442496      ['dropout_5[0][0]']              \n",
      "                                128)                                                              \n",
      "                                                                                                  \n",
      " conv3d_transpose_1 (Conv3DTran  (None, 32, 32, 32,   65600      ['conv3d_11[0][0]']              \n",
      " spose)                         64)                                                               \n",
      "                                                                                                  \n",
      " concatenate_1 (Concatenate)    (None, 32, 32, 32,   0           ['conv3d_transpose_1[0][0]',     \n",
      "                                128)                              'conv3d_5[0][0]']               \n",
      "                                                                                                  \n",
      " conv3d_12 (Conv3D)             (None, 32, 32, 32,   221248      ['concatenate_1[0][0]']          \n",
      "                                64)                                                               \n",
      "                                                                                                  \n",
      " dropout_6 (Dropout)            (None, 32, 32, 32,   0           ['conv3d_12[0][0]']              \n",
      "                                64)                                                               \n",
      "                                                                                                  \n",
      " conv3d_13 (Conv3D)             (None, 32, 32, 32,   110656      ['dropout_6[0][0]']              \n",
      "                                64)                                                               \n",
      "                                                                                                  \n",
      " conv3d_transpose_2 (Conv3DTran  (None, 64, 64, 64,   16416      ['conv3d_13[0][0]']              \n",
      " spose)                         32)                                                               \n",
      "                                                                                                  \n",
      " concatenate_2 (Concatenate)    (None, 64, 64, 64,   0           ['conv3d_transpose_2[0][0]',     \n",
      "                                64)                               'conv3d_3[0][0]']               \n",
      "                                                                                                  \n",
      " conv3d_14 (Conv3D)             (None, 64, 64, 64,   55328       ['concatenate_2[0][0]']          \n",
      "                                32)                                                               \n",
      "                                                                                                  \n",
      " dropout_7 (Dropout)            (None, 64, 64, 64,   0           ['conv3d_14[0][0]']              \n",
      "                                32)                                                               \n",
      "                                                                                                  \n",
      " conv3d_15 (Conv3D)             (None, 64, 64, 64,   27680       ['dropout_7[0][0]']              \n",
      "                                32)                                                               \n",
      "                                                                                                  \n",
      " conv3d_transpose_3 (Conv3DTran  (None, 128, 128, 12  4112       ['conv3d_15[0][0]']              \n",
      " spose)                         8, 16)                                                            \n",
      "                                                                                                  \n",
      " concatenate_3 (Concatenate)    (None, 128, 128, 12  0           ['conv3d_transpose_3[0][0]',     \n",
      "                                8, 32)                            'conv3d_1[0][0]']               \n",
      "                                                                                                  \n",
      " conv3d_16 (Conv3D)             (None, 128, 128, 12  13840       ['concatenate_3[0][0]']          \n",
      "                                8, 16)                                                            \n",
      "                                                                                                  \n",
      " dropout_8 (Dropout)            (None, 128, 128, 12  0           ['conv3d_16[0][0]']              \n",
      "                                8, 16)                                                            \n",
      "                                                                                                  \n",
      " conv3d_17 (Conv3D)             (None, 128, 128, 12  6928        ['dropout_8[0][0]']              \n",
      "                                8, 16)                                                            \n",
      "                                                                                                  \n",
      " conv3d_18 (Conv3D)             (None, 128, 128, 12  68          ['conv3d_17[0][0]']              \n",
      "                                8, 4)                                                             \n",
      "                                                                                                  \n",
      "==================================================================================================\n",
      "Total params: 5,645,828\n",
      "Trainable params: 5,645,828\n",
      "Non-trainable params: 0\n",
      "__________________________________________________________________________________________________\n"
     ]
    },
    {
     "name": "stderr",
     "output_type": "stream",
     "text": [
      "2023-11-25 12:54:22.689594: W tensorflow/core/framework/cpu_allocator_impl.cc:82] Allocation of 268435456 exceeds 10% of free system memory.\n",
      "2023-11-25 12:54:27.466371: W tensorflow/core/framework/cpu_allocator_impl.cc:82] Allocation of 268435456 exceeds 10% of free system memory.\n",
      "2023-11-25 12:54:27.825613: W tensorflow/core/framework/cpu_allocator_impl.cc:82] Allocation of 268435456 exceeds 10% of free system memory.\n",
      "2023-11-25 12:54:27.946424: W tensorflow/core/framework/cpu_allocator_impl.cc:82] Allocation of 268435456 exceeds 10% of free system memory.\n",
      "2023-11-25 12:54:28.090578: W tensorflow/core/framework/cpu_allocator_impl.cc:82] Allocation of 268435456 exceeds 10% of free system memory.\n"
     ]
    }
   ],
   "source": [
    "try:\n",
    "    config = ConfigurationManager()\n",
    "    training_config = config.get_training_config()\n",
    "    training = Training(config=training_config)\n",
    "    training.train()\n",
    "except Exception as e:\n",
    "    raise e"
   ]
  }
 ],
 "metadata": {
  "kernelspec": {
   "display_name": "venv",
   "language": "python",
   "name": "python3"
  },
  "language_info": {
   "codemirror_mode": {
    "name": "ipython",
    "version": 3
   },
   "file_extension": ".py",
   "mimetype": "text/x-python",
   "name": "python",
   "nbconvert_exporter": "python",
   "pygments_lexer": "ipython3",
   "version": "3.10.12"
  }
 },
 "nbformat": 4,
 "nbformat_minor": 2
}
